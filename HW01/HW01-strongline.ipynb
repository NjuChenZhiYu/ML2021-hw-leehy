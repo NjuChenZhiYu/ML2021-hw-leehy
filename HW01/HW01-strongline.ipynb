{
  "nbformat": 4,
  "nbformat_minor": 0,
  "metadata": {
    "colab": {
      "name": "ML2021Spring - HW1.ipynb",
      "provenance": [],
      "gpuType": "T4",
      "include_colab_link": true
    },
    "kernelspec": {
      "name": "python3",
      "display_name": "Python 3"
    },
    "accelerator": "GPU"
  },
  "cells": [
    {
      "cell_type": "markdown",
      "metadata": {
        "id": "view-in-github",
        "colab_type": "text"
      },
      "source": [
        "<a href=\"https://colab.research.google.com/github/NjuChenZhiYu/ML2021-hw-leehy/blob/develop/HW01/HW01-strongline.ipynb\" target=\"_parent\"><img src=\"https://colab.research.google.com/assets/colab-badge.svg\" alt=\"Open In Colab\"/></a>"
      ]
    },
    {
      "cell_type": "markdown",
      "metadata": {
        "id": "mz0_QVkxCrX3"
      },
      "source": [
        "# **Homework 1: COVID-19 Cases Prediction (Regression)**"
      ]
    },
    {
      "cell_type": "markdown",
      "metadata": {
        "id": "ZeZnPAiwDRWG"
      },
      "source": [
        "Editor : Zhiyu Chen  \n",
        "Sample_Author: Heng-Jui Chang\n",
        "\n",
        "Slides: https://github.com/ga642381/ML2021-Spring/blob/main/HW01/HW01.pdf  \n",
        "Videos (Mandarin): https://cool.ntu.edu.tw/courses/4793/modules/items/172854  \n",
        "https://cool.ntu.edu.tw/courses/4793/modules/items/172853  \n",
        "Video (English): https://cool.ntu.edu.tw/courses/4793/modules/items/176529\n",
        "\n",
        "\n",
        "Objectives:\n",
        "* Solve a regression problem with deep neural networks (DNN).\n",
        "* Understand basic DNN training tips.\n",
        "* Get familiar with PyTorch.\n",
        "\n",
        "If any questions, please contact the TAs via TA hours, NTU COOL, or email.\n"
      ]
    },
    {
      "cell_type": "markdown",
      "metadata": {
        "id": "Jx3x1nDkG-Uy"
      },
      "source": [
        "# **Download Data**\n",
        "\n",
        "\n",
        "If the Google drive links are dead, you can download data from [kaggle](https://www.kaggle.com/c/ml2021spring-hw1/data), and upload data manually to the workspace."
      ]
    },
    {
      "cell_type": "code",
      "metadata": {
        "colab": {
          "base_uri": "https://localhost:8080/"
        },
        "id": "tMj55YDKG6ch",
        "outputId": "e84c4078-8efc-4d0f-a261-a876e3b8f287"
      },
      "source": [
        "tr_path = 'covid.train.csv'  # path to training data\n",
        "tt_path = 'covid.test.csv'   # path to testing data\n",
        "\n",
        "!gdown --id '19CCyCgJrUxtvgZF53vnctJiOJ23T5mqF' --output covid.train.csv\n",
        "!gdown --id '1CE240jLm2npU-tdz81-oVKEF3T2yfT1O' --output covid.test.csv"
      ],
      "execution_count": 1,
      "outputs": [
        {
          "output_type": "stream",
          "name": "stdout",
          "text": [
            "/usr/local/lib/python3.11/dist-packages/gdown/__main__.py:140: FutureWarning: Option `--id` was deprecated in version 4.3.1 and will be removed in 5.0. You don't need to pass it anymore to use a file ID.\n",
            "  warnings.warn(\n",
            "Downloading...\n",
            "From: https://drive.google.com/uc?id=19CCyCgJrUxtvgZF53vnctJiOJ23T5mqF\n",
            "To: /content/covid.train.csv\n",
            "100% 2.00M/2.00M [00:00<00:00, 202MB/s]\n",
            "/usr/local/lib/python3.11/dist-packages/gdown/__main__.py:140: FutureWarning: Option `--id` was deprecated in version 4.3.1 and will be removed in 5.0. You don't need to pass it anymore to use a file ID.\n",
            "  warnings.warn(\n",
            "Downloading...\n",
            "From: https://drive.google.com/uc?id=1CE240jLm2npU-tdz81-oVKEF3T2yfT1O\n",
            "To: /content/covid.test.csv\n",
            "100% 651k/651k [00:00<00:00, 144MB/s]\n"
          ]
        }
      ]
    },
    {
      "cell_type": "markdown",
      "metadata": {
        "id": "wS_4-77xHk44"
      },
      "source": [
        "# **Import Some Packages**"
      ]
    },
    {
      "cell_type": "code",
      "metadata": {
        "id": "k-onQd4JNA5H"
      },
      "source": [
        "# PyTorch\n",
        "import torch\n",
        "import torch.nn as nn\n",
        "from torch.utils.data import Dataset, DataLoader\n",
        "\n",
        "# For data preprocess\n",
        "import numpy as np\n",
        "import csv\n",
        "import os\n",
        "\n",
        "# For plotting\n",
        "import matplotlib.pyplot as plt\n",
        "from matplotlib.pyplot import figure\n",
        "\n",
        "myseed = 42069  # set a random seed for reproducibility\n",
        "torch.backends.cudnn.deterministic = True\n",
        "torch.backends.cudnn.benchmark = False\n",
        "np.random.seed(myseed)\n",
        "torch.manual_seed(myseed)\n",
        "if torch.cuda.is_available():\n",
        "    torch.cuda.manual_seed_all(myseed)"
      ],
      "execution_count": 2,
      "outputs": []
    },
    {
      "cell_type": "markdown",
      "metadata": {
        "id": "BtE3b6JEH7rw"
      },
      "source": [
        "# **Some Utilities**\n",
        "\n",
        "You do not need to modify this part."
      ]
    },
    {
      "cell_type": "code",
      "metadata": {
        "id": "FWMT3uf1NGQp"
      },
      "source": [
        "def get_device():\n",
        "    ''' Get device (if GPU is available, use GPU) '''\n",
        "    return 'cuda' if torch.cuda.is_available() else 'cpu'\n",
        "\n",
        "def plot_learning_curve(loss_record, title=''):\n",
        "    ''' Plot learning curve of your DNN (train & dev loss) '''\n",
        "    total_steps = len(loss_record['train'])\n",
        "    x_1 = range(total_steps)\n",
        "    x_2 = x_1[::len(loss_record['train']) // len(loss_record['dev'])]\n",
        "    figure(figsize=(6, 4))\n",
        "    plt.plot(x_1, loss_record['train'], c='tab:red', label='train')\n",
        "    plt.plot(x_2, loss_record['dev'], c='tab:cyan', label='dev')\n",
        "    plt.ylim(0.0, 5.)\n",
        "    plt.xlabel('Training steps')\n",
        "    plt.ylabel('MSE loss')\n",
        "    plt.title('Learning curve of {}'.format(title))\n",
        "    plt.legend()\n",
        "    plt.show()\n",
        "\n",
        "\n",
        "def plot_pred(dv_set, model, device, lim=35., preds=None, targets=None):\n",
        "    ''' Plot prediction of your DNN '''\n",
        "    if preds is None or targets is None:\n",
        "        model.eval()\n",
        "        preds, targets = [], []\n",
        "        for x, y in dv_set:\n",
        "            x, y = x.to(device), y.to(device)\n",
        "            with torch.no_grad():\n",
        "                pred = model(x)\n",
        "                preds.append(pred.detach().cpu())\n",
        "                targets.append(y.detach().cpu())\n",
        "        preds = torch.cat(preds, dim=0).numpy()\n",
        "        targets = torch.cat(targets, dim=0).numpy()\n",
        "\n",
        "    figure(figsize=(5, 5))\n",
        "    plt.scatter(targets, preds, c='r', alpha=0.5)\n",
        "    plt.plot([-0.2, lim], [-0.2, lim], c='b')\n",
        "    plt.xlim(-0.2, lim)\n",
        "    plt.ylim(-0.2, lim)\n",
        "    plt.xlabel('ground truth value')\n",
        "    plt.ylabel('predicted value')\n",
        "    plt.title('Ground Truth v.s. Prediction')\n",
        "    plt.show()"
      ],
      "execution_count": 3,
      "outputs": []
    },
    {
      "cell_type": "code",
      "source": [
        "torch.cuda.is_available()"
      ],
      "metadata": {
        "colab": {
          "base_uri": "https://localhost:8080/"
        },
        "id": "g7SLPTyg9FSE",
        "outputId": "8999db9c-9ace-4289-d208-86618ef0a920"
      },
      "execution_count": 4,
      "outputs": [
        {
          "output_type": "execute_result",
          "data": {
            "text/plain": [
              "True"
            ]
          },
          "metadata": {},
          "execution_count": 4
        }
      ]
    },
    {
      "cell_type": "markdown",
      "metadata": {
        "id": "39U_XFX6KOoj"
      },
      "source": [
        "# **Preprocess**\n",
        "\n",
        "We have three kinds of datasets:\n",
        "* `train`: for training\n",
        "* `dev`: for validation\n",
        "* `test`: for testing (w/o target value)"
      ]
    },
    {
      "cell_type": "markdown",
      "metadata": {
        "id": "TQ-MdwpLL7Dt"
      },
      "source": [
        "## **Dataset**\n",
        "\n",
        "The `COVID19Dataset` below does:\n",
        "* read `.csv` files\n",
        "* extract features\n",
        "* split `covid.train.csv` into train/dev sets\n",
        "* normalize features\n",
        "\n",
        "Finishing `TODO` below might make you pass medium baseline."
      ]
    },
    {
      "cell_type": "code",
      "source": [
        "import pandas as pd\n",
        "import numpy as np\n",
        "import matplotlib.pyplot as plt\n",
        "\n",
        "# 1. 读取数据文件\n",
        "file_path = '/content/covid.train.csv'  # 替换为你的实际文件路径\n",
        "df = pd.read_csv(file_path)\n",
        "\n",
        "# 2. 初步查看数据结构\n",
        "print(\"=\"*50)\n",
        "print(\"数据概览:\")\n",
        "print(f\"数据集形状: {df.shape}\")  # (行数, 列数)\n",
        "print(f\"前5行数据:\")\n",
        "print(df.head())\n",
        "print(\"\\n列名列表:\")\n",
        "print(df.columns.tolist())\n",
        "\n",
        "# 3. 创建列索引映射表\n",
        "# 为每个列名创建索引映射\n",
        "# column_index_map = {col: idx for idx, col in enumerate(df.columns)}\n",
        "# print(\"\\n\" + \"=\"*50)\n",
        "# print(\"列名索引映射表:\")\n",
        "# for idx, col in enumerate(df.columns):\n",
        "#     print(f\"索引 {idx}: {col}\")\n",
        "\n",
        "# 4. 可视化列分布（可选）\n",
        "# plt.figure(figsize=(12, 8))\n",
        "# df.hist(layout=(10, 10), bins=30)  # 10x10的直方图网格\n",
        "# plt.suptitle('特征分布直方图', fontsize=16)\n",
        "# plt.tight_layout(rect=[0, 0, 1, 0.96])\n",
        "# plt.savefig('feature_distributions.png')\n",
        "# plt.close()\n",
        "\n",
        "# 5. 根据要求提取特定列\n",
        "# 根据题目要求：40个州特征 + 索引57和75的tested_positive特征\n",
        "\n",
        "# 5.1 确认索引57和75对应的列名\n",
        "try:\n",
        "    col_57 = df.columns[58]\n",
        "    col_75 = df.columns[76]\n",
        "    print(\"\\n\" + \"=\"*50)\n",
        "    print(f\"索引57的列名: {col_57}\")\n",
        "    print(f\"索引75的列名: {col_75}\")\n",
        "\n",
        "    # 5.2 提取前40列（州特征）\n",
        "    state_columns = df.columns[1:41]\n",
        "\n",
        "    # 5.3 组合所有需要的列\n",
        "    selected_columns = list(state_columns) + [col_57, col_75]\n",
        "\n",
        "    # 5.4 创建新的数据子集\n",
        "    selected_df = df[selected_columns].copy()\n",
        "\n",
        "    print(\"\\n\" + \"=\"*50)\n",
        "    print(\"提取后的数据子集信息:\")\n",
        "    print(f\"子集形状: {selected_df.shape}\")\n",
        "    print(f\"包含的列: {selected_df.columns.tolist()}\")\n",
        "    print(\"\\n子集前5行:\")\n",
        "    print(selected_df.head())\n",
        "\n",
        "    # 6. 数据质量检查\n",
        "    print(\"\\n\" + \"=\"*50)\n",
        "    print(\"数据质量报告:\")\n",
        "    print(\"缺失值统计:\")\n",
        "    print(selected_df.isnull().sum())\n",
        "\n",
        "    print(\"\\n数据类型:\")\n",
        "    print(selected_df.dtypes)\n",
        "\n",
        "    # 7. 保存提取后的数据集（可选）\n",
        "    selected_df.to_csv('selected_covid_features.csv', index=False)\n",
        "    print(\"\\n已保存提取后的数据集到 selected_covid_features.csv\")\n",
        "\n",
        "except IndexError as e:\n",
        "    print(\"\\n错误: 索引超出范围!\")\n",
        "    print(f\"数据集只有 {len(df.columns)} 列，但尝试访问索引57或75\")\n",
        "    print(\"请检查数据并调整索引值\")\n",
        "\n",
        "# 8. 特征相关性分析（针对目标变量）\n",
        "# 假设目标变量是传播率，列名为'spread_rate'\n",
        "if 'spread_rate' in df.columns:\n",
        "    # 计算所有特征与目标的相关性\n",
        "    correlation_with_target = df.corr()['spread_rate'].sort_values(ascending=False)\n",
        "\n",
        "    print(\"\\n\" + \"=\"*50)\n",
        "    print(\"特征与目标变量的相关性排序:\")\n",
        "    print(correlation_with_target)\n",
        "\n",
        "    # 可视化相关性\n",
        "    plt.figure(figsize=(10, 8))\n",
        "    correlation_with_target.drop('spread_rate').plot(kind='bar')\n",
        "    plt.title('特征与传播率的相关性')\n",
        "    plt.ylabel('相关系数')\n",
        "    plt.xticks(rotation=90)\n",
        "    plt.tight_layout()\n",
        "    plt.savefig('feature_correlations.png')\n",
        "    plt.close()\n",
        "else:\n",
        "    print(\"\\n未找到目标变量 'spread_rate'，跳过相关性分析\")"
      ],
      "metadata": {
        "colab": {
          "base_uri": "https://localhost:8080/"
        },
        "id": "zw9UyArpYAMA",
        "outputId": "03440db8-1539-4eea-df06-00c83ec9f902"
      },
      "execution_count": 5,
      "outputs": [
        {
          "output_type": "stream",
          "name": "stdout",
          "text": [
            "==================================================\n",
            "数据概览:\n",
            "数据集形状: (2700, 95)\n",
            "前5行数据:\n",
            "   id   AL   AK   AZ   AR   CA   CO   CT   FL   GA  ...  restaurant.2  \\\n",
            "0   0  1.0  0.0  0.0  0.0  0.0  0.0  0.0  0.0  0.0  ...     23.812411   \n",
            "1   1  1.0  0.0  0.0  0.0  0.0  0.0  0.0  0.0  0.0  ...     23.682974   \n",
            "2   2  1.0  0.0  0.0  0.0  0.0  0.0  0.0  0.0  0.0  ...     23.593983   \n",
            "3   3  1.0  0.0  0.0  0.0  0.0  0.0  0.0  0.0  0.0  ...     22.576992   \n",
            "4   4  1.0  0.0  0.0  0.0  0.0  0.0  0.0  0.0  0.0  ...     22.091433   \n",
            "\n",
            "   spent_time.2  large_event.2  public_transit.2  anxious.2  depressed.2  \\\n",
            "0     43.430423      16.151527          1.602635  15.409449    12.088688   \n",
            "1     43.196313      16.123386          1.641863  15.230063    11.809047   \n",
            "2     43.362200      16.159971          1.677523  15.717207    12.355918   \n",
            "3     42.954574      15.544373          1.578030  15.295650    12.218123   \n",
            "4     43.290957      15.214655          1.641667  14.778802    12.417256   \n",
            "\n",
            "   felt_isolated.2  worried_become_ill.2  worried_finances.2  \\\n",
            "0        16.702086             53.991549           43.604229   \n",
            "1        16.506973             54.185521           42.665766   \n",
            "2        16.273294             53.637069           42.972417   \n",
            "3        16.045504             52.446223           42.907472   \n",
            "4        16.134238             52.560315           43.321985   \n",
            "\n",
            "   tested_positive.2  \n",
            "0          20.704935  \n",
            "1          21.292911  \n",
            "2          21.166656  \n",
            "3          19.896607  \n",
            "4          20.178428  \n",
            "\n",
            "[5 rows x 95 columns]\n",
            "\n",
            "列名列表:\n",
            "['id', 'AL', 'AK', 'AZ', 'AR', 'CA', 'CO', 'CT', 'FL', 'GA', 'ID', 'IL', 'IN', 'IA', 'KS', 'KY', 'LA', 'MD', 'MA', 'MI', 'MN', 'MS', 'MO', 'NE', 'NV', 'NJ', 'NM', 'NY', 'NC', 'OH', 'OK', 'OR', 'PA', 'RI', 'SC', 'TX', 'UT', 'VA', 'WA', 'WV', 'WI', 'cli', 'ili', 'hh_cmnty_cli', 'nohh_cmnty_cli', 'wearing_mask', 'travel_outside_state', 'work_outside_home', 'shop', 'restaurant', 'spent_time', 'large_event', 'public_transit', 'anxious', 'depressed', 'felt_isolated', 'worried_become_ill', 'worried_finances', 'tested_positive', 'cli.1', 'ili.1', 'hh_cmnty_cli.1', 'nohh_cmnty_cli.1', 'wearing_mask.1', 'travel_outside_state.1', 'work_outside_home.1', 'shop.1', 'restaurant.1', 'spent_time.1', 'large_event.1', 'public_transit.1', 'anxious.1', 'depressed.1', 'felt_isolated.1', 'worried_become_ill.1', 'worried_finances.1', 'tested_positive.1', 'cli.2', 'ili.2', 'hh_cmnty_cli.2', 'nohh_cmnty_cli.2', 'wearing_mask.2', 'travel_outside_state.2', 'work_outside_home.2', 'shop.2', 'restaurant.2', 'spent_time.2', 'large_event.2', 'public_transit.2', 'anxious.2', 'depressed.2', 'felt_isolated.2', 'worried_become_ill.2', 'worried_finances.2', 'tested_positive.2']\n",
            "\n",
            "==================================================\n",
            "索引57的列名: tested_positive\n",
            "索引75的列名: tested_positive.1\n",
            "\n",
            "==================================================\n",
            "提取后的数据子集信息:\n",
            "子集形状: (2700, 42)\n",
            "包含的列: ['AL', 'AK', 'AZ', 'AR', 'CA', 'CO', 'CT', 'FL', 'GA', 'ID', 'IL', 'IN', 'IA', 'KS', 'KY', 'LA', 'MD', 'MA', 'MI', 'MN', 'MS', 'MO', 'NE', 'NV', 'NJ', 'NM', 'NY', 'NC', 'OH', 'OK', 'OR', 'PA', 'RI', 'SC', 'TX', 'UT', 'VA', 'WA', 'WV', 'WI', 'tested_positive', 'tested_positive.1']\n",
            "\n",
            "子集前5行:\n",
            "    AL   AK   AZ   AR   CA   CO   CT   FL   GA   ID  ...   RI   SC   TX   UT  \\\n",
            "0  1.0  0.0  0.0  0.0  0.0  0.0  0.0  0.0  0.0  0.0  ...  0.0  0.0  0.0  0.0   \n",
            "1  1.0  0.0  0.0  0.0  0.0  0.0  0.0  0.0  0.0  0.0  ...  0.0  0.0  0.0  0.0   \n",
            "2  1.0  0.0  0.0  0.0  0.0  0.0  0.0  0.0  0.0  0.0  ...  0.0  0.0  0.0  0.0   \n",
            "3  1.0  0.0  0.0  0.0  0.0  0.0  0.0  0.0  0.0  0.0  ...  0.0  0.0  0.0  0.0   \n",
            "4  1.0  0.0  0.0  0.0  0.0  0.0  0.0  0.0  0.0  0.0  ...  0.0  0.0  0.0  0.0   \n",
            "\n",
            "    VA   WA   WV   WI  tested_positive  tested_positive.1  \n",
            "0  0.0  0.0  0.0  0.0        19.586492          20.151838  \n",
            "1  0.0  0.0  0.0  0.0        20.151838          20.704935  \n",
            "2  0.0  0.0  0.0  0.0        20.704935          21.292911  \n",
            "3  0.0  0.0  0.0  0.0        21.292911          21.166656  \n",
            "4  0.0  0.0  0.0  0.0        21.166656          19.896607  \n",
            "\n",
            "[5 rows x 42 columns]\n",
            "\n",
            "==================================================\n",
            "数据质量报告:\n",
            "缺失值统计:\n",
            "AL                   0\n",
            "AK                   0\n",
            "AZ                   0\n",
            "AR                   0\n",
            "CA                   0\n",
            "CO                   0\n",
            "CT                   0\n",
            "FL                   0\n",
            "GA                   0\n",
            "ID                   0\n",
            "IL                   0\n",
            "IN                   0\n",
            "IA                   0\n",
            "KS                   0\n",
            "KY                   0\n",
            "LA                   0\n",
            "MD                   0\n",
            "MA                   0\n",
            "MI                   0\n",
            "MN                   0\n",
            "MS                   0\n",
            "MO                   0\n",
            "NE                   0\n",
            "NV                   0\n",
            "NJ                   0\n",
            "NM                   0\n",
            "NY                   0\n",
            "NC                   0\n",
            "OH                   0\n",
            "OK                   0\n",
            "OR                   0\n",
            "PA                   0\n",
            "RI                   0\n",
            "SC                   0\n",
            "TX                   0\n",
            "UT                   0\n",
            "VA                   0\n",
            "WA                   0\n",
            "WV                   0\n",
            "WI                   0\n",
            "tested_positive      0\n",
            "tested_positive.1    0\n",
            "dtype: int64\n",
            "\n",
            "数据类型:\n",
            "AL                   float64\n",
            "AK                   float64\n",
            "AZ                   float64\n",
            "AR                   float64\n",
            "CA                   float64\n",
            "CO                   float64\n",
            "CT                   float64\n",
            "FL                   float64\n",
            "GA                   float64\n",
            "ID                   float64\n",
            "IL                   float64\n",
            "IN                   float64\n",
            "IA                   float64\n",
            "KS                   float64\n",
            "KY                   float64\n",
            "LA                   float64\n",
            "MD                   float64\n",
            "MA                   float64\n",
            "MI                   float64\n",
            "MN                   float64\n",
            "MS                   float64\n",
            "MO                   float64\n",
            "NE                   float64\n",
            "NV                   float64\n",
            "NJ                   float64\n",
            "NM                   float64\n",
            "NY                   float64\n",
            "NC                   float64\n",
            "OH                   float64\n",
            "OK                   float64\n",
            "OR                   float64\n",
            "PA                   float64\n",
            "RI                   float64\n",
            "SC                   float64\n",
            "TX                   float64\n",
            "UT                   float64\n",
            "VA                   float64\n",
            "WA                   float64\n",
            "WV                   float64\n",
            "WI                   float64\n",
            "tested_positive      float64\n",
            "tested_positive.1    float64\n",
            "dtype: object\n",
            "\n",
            "已保存提取后的数据集到 selected_covid_features.csv\n",
            "\n",
            "未找到目标变量 'spread_rate'，跳过相关性分析\n"
          ]
        }
      ]
    },
    {
      "cell_type": "code",
      "source": [
        "import pandas as pd\n",
        "import numpy as np\n",
        "from scipy.stats import pearsonr\n",
        "\n",
        "data = pd.read_csv('/content/covid.train.csv')  # 你的数据\n",
        "\n",
        "target = data.iloc[1: ,-1]\n",
        "features = data.iloc[1 :, : -1]\n",
        "\n",
        "correlations = {}\n",
        "for col in features.columns:\n",
        "    corr, _ = pearsonr(features[col], target)\n",
        "    correlations[col] = abs(corr)\n",
        "\n",
        "# 排序找到最相关的特征\n",
        "sorted_corr = sorted(correlations.items(), key=lambda item: item[1], reverse=True)\n",
        "feature_list = []\n",
        "for i in range(min(15,len(sorted_corr))):\n",
        "  print(\"Top features by correlation:\", sorted_corr[i])\n",
        "  feature_list.append(sorted_corr[i][0])\n",
        "print(feature_list)\n",
        "\n",
        "feature_idx = []\n",
        "for i in range(len(df.columns.tolist())):\n",
        "  if df.columns[i] in feature_list and df.columns[i] != 'worried_finances.2':\n",
        "    #print(df.columns[i])\n",
        "    feature_idx.append(i)\n",
        "feature_idx_1  = list(num - 1 for num in feature_idx)\n",
        "print(feature_idx)\n",
        "print(feature_idx_1)\n"
      ],
      "metadata": {
        "id": "T5VW3tXSK0PQ",
        "outputId": "492a9abc-fe66-468c-93a9-c9d91d23fd48",
        "colab": {
          "base_uri": "https://localhost:8080/"
        }
      },
      "execution_count": 6,
      "outputs": [
        {
          "output_type": "stream",
          "name": "stdout",
          "text": [
            "Top features by correlation: ('tested_positive.1', np.float64(0.9910119065950166))\n",
            "Top features by correlation: ('tested_positive', np.float64(0.9811661547191811))\n",
            "Top features by correlation: ('hh_cmnty_cli', np.float64(0.8798900091039177))\n",
            "Top features by correlation: ('hh_cmnty_cli.1', np.float64(0.8796065713771545))\n",
            "Top features by correlation: ('hh_cmnty_cli.2', np.float64(0.8783751951965951))\n",
            "Top features by correlation: ('nohh_cmnty_cli', np.float64(0.870086397263722))\n",
            "Top features by correlation: ('nohh_cmnty_cli.1', np.float64(0.8694273281489462))\n",
            "Top features by correlation: ('nohh_cmnty_cli.2', np.float64(0.8676790058182792))\n",
            "Top features by correlation: ('cli', np.float64(0.8386681896750969))\n",
            "Top features by correlation: ('cli.1', np.float64(0.8383711113622412))\n",
            "Top features by correlation: ('cli.2', np.float64(0.835858503005906))\n",
            "Top features by correlation: ('ili', np.float64(0.830747102067896))\n",
            "Top features by correlation: ('ili.1', np.float64(0.8293899775402914))\n",
            "Top features by correlation: ('ili.2', np.float64(0.8262043775486404))\n",
            "Top features by correlation: ('worried_finances.2', np.float64(0.48591244909333975))\n",
            "['tested_positive.1', 'tested_positive', 'hh_cmnty_cli', 'hh_cmnty_cli.1', 'hh_cmnty_cli.2', 'nohh_cmnty_cli', 'nohh_cmnty_cli.1', 'nohh_cmnty_cli.2', 'cli', 'cli.1', 'cli.2', 'ili', 'ili.1', 'ili.2', 'worried_finances.2']\n",
            "[41, 42, 43, 44, 58, 59, 60, 61, 62, 76, 77, 78, 79, 80]\n",
            "[40, 41, 42, 43, 57, 58, 59, 60, 61, 75, 76, 77, 78, 79]\n"
          ]
        }
      ]
    },
    {
      "cell_type": "code",
      "metadata": {
        "id": "0zlpIp9ANJRU"
      },
      "source": [
        "class COVID19Dataset(Dataset):\n",
        "    ''' Dataset for loading and preprocessing the COVID19 dataset '''\n",
        "    def __init__(self,\n",
        "                 path,\n",
        "                 mode='train',\n",
        "                 target_only=False):\n",
        "        self.mode = mode\n",
        "\n",
        "        # Read data into numpy arrays\n",
        "        with open(path, 'r') as fp:\n",
        "            data = list(csv.reader(fp))\n",
        "            data = np.array(data[1:])[:, 1:].astype(float)\n",
        "\n",
        "        if not target_only:\n",
        "            feats = list(range(93))\n",
        "        else:\n",
        "            # TODO: Using 40 states & 2 tested_positive features (indices = 57 & 75)\n",
        "            feats = feature_idx_1\n",
        "\n",
        "        if mode == 'test':\n",
        "            # Testing data\n",
        "            # data: 893 x 93 (40 states + day 1 (18) + day 2 (18) + day 3 (17))\n",
        "            data = data[:, feats]\n",
        "            self.data = torch.FloatTensor(data)\n",
        "        else:\n",
        "            # Training data (train/dev sets)\n",
        "            # data: 2700 x 94 (40 states + day 1 (18) + day 2 (18) + day 3 (18))\n",
        "            target = data[:, -1]\n",
        "            data = data[:, feats]\n",
        "\n",
        "            # Splitting training data into train & dev sets\n",
        "            if mode == 'train':\n",
        "                indices = [i for i in range(len(data)) if i % 10 != 0]\n",
        "            elif mode == 'dev':\n",
        "                indices = [i for i in range(len(data)) if i % 10 == 0]\n",
        "\n",
        "            # Convert data into PyTorch tensors\n",
        "            self.data = torch.FloatTensor(data[indices])\n",
        "            self.target = torch.FloatTensor(target[indices])\n",
        "\n",
        "        # Normalize features (you may remove this part to see what will happen)\n",
        "        self.data[:, 40:] = \\\n",
        "            (self.data[:, 40:] - self.data[:, 40:].mean(dim=0, keepdim=True)) \\\n",
        "            / self.data[:, 40:].std(dim=0, keepdim=True)\n",
        "\n",
        "        self.dim = self.data.shape[1]\n",
        "\n",
        "        print('Finished reading the {} set of COVID19 Dataset ({} samples found, each dim = {})'\n",
        "              .format(mode, len(self.data), self.dim))\n",
        "\n",
        "    def __getitem__(self, index):\n",
        "        # Returns one sample at a time\n",
        "        if self.mode in ['train', 'dev']:\n",
        "            # For training\n",
        "            return self.data[index], self.target[index]\n",
        "        else:\n",
        "            # For testing (no target)\n",
        "            return self.data[index]\n",
        "\n",
        "    def __len__(self):\n",
        "        # Returns the size of the dataset\n",
        "        return len(self.data)"
      ],
      "execution_count": 7,
      "outputs": []
    },
    {
      "cell_type": "markdown",
      "metadata": {
        "id": "AlhTlkE7MDo3"
      },
      "source": [
        "## **DataLoader**\n",
        "\n",
        "A `DataLoader` loads data from a given `Dataset` into batches.\n"
      ]
    },
    {
      "cell_type": "code",
      "metadata": {
        "id": "hlhLk5t6MBX3"
      },
      "source": [
        "def prep_dataloader(path, mode, batch_size, n_jobs=0, target_only=False):\n",
        "    ''' Generates a dataset, then is put into a dataloader. '''\n",
        "    dataset = COVID19Dataset(path, mode=mode, target_only=target_only)  # Construct dataset\n",
        "    dataloader = DataLoader(\n",
        "        dataset, batch_size,\n",
        "        shuffle=(mode == 'train'), drop_last=False,\n",
        "        num_workers=n_jobs, pin_memory=True)                            # Construct dataloader\n",
        "    return dataloader"
      ],
      "execution_count": 8,
      "outputs": []
    },
    {
      "cell_type": "markdown",
      "metadata": {
        "id": "SGuycwR0MeQB"
      },
      "source": [
        "# **Deep Neural Network**\n",
        "\n",
        "`NeuralNet` is an `nn.Module` designed for regression.\n",
        "The DNN consists of 2 fully-connected layers with ReLU activation.\n",
        "This module also included a function `cal_loss` for calculating loss.\n"
      ]
    },
    {
      "cell_type": "code",
      "metadata": {
        "id": "49-uXYovOAI0"
      },
      "source": [
        "class NeuralNet(nn.Module):\n",
        "    ''' A simple fully-connected deep neural network '''\n",
        "    def __init__(self, input_dim):\n",
        "        #super(NeuralNet, self).__init__()\n",
        "        super().__init__()\n",
        "\n",
        "        # Define your neural network here\n",
        "        # TODO: How to modify this model to achieve better performance?\n",
        "        self.net = nn.Sequential(\n",
        "            nn.Linear(input_dim, 32),\n",
        "            nn.ReLU(),\n",
        "            nn.Linear(32, 1)\n",
        "        )\n",
        "\n",
        "        # Mean squared error loss\n",
        "        self.criterion = nn.MSELoss(reduction='mean')\n",
        "\n",
        "    def forward(self, x):\n",
        "        ''' Given input of size (batch_size x input_dim), compute output of the network '''\n",
        "        return self.net(x).squeeze(1)\n",
        "\n",
        "    def cal_loss(self, pred, target):\n",
        "        ''' Calculate loss '''\n",
        "        # TODO: you may implement L1/L2 regularization here\n",
        "        return self.criterion(pred, target)"
      ],
      "execution_count": 9,
      "outputs": []
    },
    {
      "cell_type": "code",
      "source": [
        "import torch\n",
        "import torch.nn as nn\n",
        "import torch.nn.functional as F\n",
        "\n",
        "class ImprovedNeuralNet(nn.Module):\n",
        "    ''' 优化的全连接深度神经网络 '''\n",
        "    def __init__(self, input_dim):\n",
        "        super().__init__()\n",
        "        self.net = nn.Sequential(\n",
        "            nn.Linear(input_dim, 32),\n",
        "            nn.BatchNorm1d(32),#使用BN，加速模型训练\n",
        "            nn.Dropout(p=0.2),#使用Dropout，减小过拟合，注意不能在BN之前\n",
        "            nn.LeakyReLU(),#更换激活函数\n",
        "            nn.Linear(32, 1)\n",
        "        )\n",
        "        # Mean squared error loss\n",
        "        self.criterion = nn.MSELoss(reduction='mean')\n",
        "\n",
        "    def forward(self, x):\n",
        "        return self.net(x).squeeze(1)\n",
        "\n",
        "    def cal_loss(self, pred, target):\n",
        "        regularization_loss = 0\n",
        "        for param in self.parameters():\n",
        "        # TODO: you may implement L1/L2 regularization here\n",
        "            regularization_loss += torch.sum(param ** 2)\n",
        "        return self.criterion(pred, target) + 0.00075 * regularization_loss"
      ],
      "metadata": {
        "id": "q_tQTGR7jPYf"
      },
      "execution_count": 10,
      "outputs": []
    },
    {
      "cell_type": "code",
      "source": [
        "import torch\n",
        "import torch.nn as nn\n",
        "\n",
        "class TunedNeuralNet(nn.Module):\n",
        "    ''' 针对COVID传播数据优化的神经网络 '''\n",
        "    def __init__(self, input_dim, hidden_dim=64, dropout_rate=0.1):\n",
        "        super().__init__()\n",
        "\n",
        "        # 更简单但有效的架构\n",
        "        self.net = nn.Sequential(\n",
        "            nn.Linear(input_dim, hidden_dim),\n",
        "            nn.ReLU(),\n",
        "            nn.Dropout(dropout_rate),\n",
        "            nn.Linear(hidden_dim, hidden_dim//2),\n",
        "            nn.ReLU(),\n",
        "            nn.Linear(hidden_dim//2, 1)\n",
        "        )\n",
        "\n",
        "        # 更温和的初始化\n",
        "        for m in self.modules():\n",
        "            if isinstance(m, nn.Linear):\n",
        "                nn.init.xavier_uniform_(m.weight)\n",
        "                if m.bias is not None:\n",
        "                    nn.init.constant_(m.bias, 0)\n",
        "\n",
        "        # 使用原始MSE损失\n",
        "        self.criterion = nn.MSELoss(reduction='mean')\n",
        "\n",
        "    def forward(self, x):\n",
        "        return self.net(x).squeeze(1)\n",
        "\n",
        "    def cal_loss(self, pred, target):\n",
        "        ''' 添加适度的L2正则化 '''\n",
        "        base_loss = self.criterion(pred, target)\n",
        "\n",
        "        # 仅添加L2正则化\n",
        "        l2_reg = torch.tensor(0., device=pred.device)\n",
        "        for param in self.parameters():\n",
        "            if param.requires_grad:\n",
        "                l2_reg += torch.norm(param, 2)\n",
        "\n",
        "        # 温和的正则化系数\n",
        "        total_loss = base_loss + 0.001 * l2_reg\n",
        "        return total_loss"
      ],
      "metadata": {
        "id": "myoW7eQilJuD"
      },
      "execution_count": 11,
      "outputs": []
    },
    {
      "cell_type": "markdown",
      "metadata": {
        "id": "DvFWVjZ5Nvga"
      },
      "source": [
        "# **Train/Dev/Test**"
      ]
    },
    {
      "cell_type": "markdown",
      "metadata": {
        "id": "MAM8QecJOyqn"
      },
      "source": [
        "## **Training**"
      ]
    },
    {
      "cell_type": "code",
      "metadata": {
        "id": "lOqcmYzMO7jB"
      },
      "source": [
        "def train(tr_set, dv_set, model, config, device):\n",
        "    ''' DNN training '''\n",
        "\n",
        "    n_epochs = config['n_epochs']  # Maximum number of epochs\n",
        "\n",
        "    # Setup optimizer\n",
        "    optimizer = getattr(torch.optim, config['optimizer'])(\n",
        "        model.parameters(), **config['optim_hparas'])\n",
        "\n",
        "    # 使用学习率调度器\n",
        "    scheduler = torch.optim.lr_scheduler.ReduceLROnPlateau(\n",
        "        optimizer, mode='min', patience=5, factor=0.5, min_lr=1e-6, verbose=True\n",
        "    )\n",
        "\n",
        "    min_mse = 1000.\n",
        "    loss_record = {'train': [], 'dev': []}      # for recording training loss\n",
        "    early_stop_cnt = 0\n",
        "    epoch = 0\n",
        "    while epoch < n_epochs:\n",
        "        model.train()                           # set model to training mode\n",
        "\n",
        "\n",
        "        for x, y in tr_set:                     # iterate through the dataloader\n",
        "            optimizer.zero_grad()               # set gradient to zero\n",
        "            x, y = x.to(device), y.to(device)   # move data to device (cpu/cuda)\n",
        "            pred = model(x)                     # forward pass (compute output)\n",
        "            mse_loss = model.cal_loss(pred, y)  # compute loss\n",
        "            mse_loss.backward()                 # compute gradient (backpropagation)\n",
        "            optimizer.step()                    # update model with optimizer\n",
        "            loss_record['train'].append(mse_loss.detach().cpu().item())\n",
        "\n",
        "\n",
        "\n",
        "        # After each epoch, test your model on the validation (development) set.\n",
        "        dev_mse = dev(dv_set, model, device)\n",
        "        # 更新学习率\n",
        "        #scheduler.step(dev_mse)\n",
        "        current_lr = optimizer.param_groups[0]['lr']\n",
        "\n",
        "        #print(f'epoch {epoch+1}, lr={current_lr:.8f}, dev_mse={dev_mse:.4f}')\n",
        "\n",
        "        #history['train_loss'].append(mean_val_loss)\n",
        "\n",
        "        if dev_mse < min_mse:\n",
        "            # Save model if your model improved\n",
        "            min_mse = dev_mse\n",
        "            print('Saving model (epoch = {:4d}, loss = {:.4f}),lr = {:.4f}'\n",
        "                .format(epoch + 1, min_mse,current_lr))\n",
        "            torch.save(model.state_dict(), config['save_path'])  # Save model to specified path\n",
        "            early_stop_cnt = 0\n",
        "        else:\n",
        "            early_stop_cnt += 1\n",
        "\n",
        "\n",
        "        epoch += 1\n",
        "        loss_record['dev'].append(dev_mse)\n",
        "        if early_stop_cnt > config['early_stop']:\n",
        "            # Stop training if your model stops improving for \"config['early_stop']\" epochs.\n",
        "            break\n",
        "\n",
        "    print('Finished training after {} epochs'.format(epoch))\n",
        "    return min_mse, loss_record"
      ],
      "execution_count": 12,
      "outputs": []
    },
    {
      "cell_type": "markdown",
      "metadata": {
        "id": "0hSd4Bn3O2PL"
      },
      "source": [
        "## **Validation**"
      ]
    },
    {
      "cell_type": "code",
      "metadata": {
        "id": "yrxrD3YsN3U2"
      },
      "source": [
        "def dev(dv_set, model, device):\n",
        "    model.eval()                                # set model to evalutation mode\n",
        "    total_loss = 0\n",
        "    for x, y in dv_set:                         # iterate through the dataloader\n",
        "        x, y = x.to(device), y.to(device)       # move data to device (cpu/cuda)\n",
        "        with torch.no_grad():                   # disable gradient calculation\n",
        "            pred = model(x)                     # forward pass (compute output)\n",
        "            mse_loss = model.cal_loss(pred, y)  # compute loss\n",
        "        total_loss += mse_loss.detach().cpu().item() * len(x)  # accumulate loss\n",
        "    total_loss = total_loss / len(dv_set.dataset)              # compute averaged loss\n",
        "\n",
        "    return total_loss"
      ],
      "execution_count": 13,
      "outputs": []
    },
    {
      "cell_type": "markdown",
      "metadata": {
        "id": "g0pdrhQAO41L"
      },
      "source": [
        "## **Testing**"
      ]
    },
    {
      "cell_type": "code",
      "metadata": {
        "id": "aSBMRFlYN5tB"
      },
      "source": [
        "def test(tt_set, model, device):\n",
        "    model.eval()                                # set model to evalutation mode\n",
        "    preds = []\n",
        "    for x in tt_set:                            # iterate through the dataloader\n",
        "        x = x.to(device)                        # move data to device (cpu/cuda)\n",
        "        with torch.no_grad():                   # disable gradient calculation\n",
        "            pred = model(x)                     # forward pass (compute output)\n",
        "            preds.append(pred.detach().cpu())   # collect prediction\n",
        "    preds = torch.cat(preds, dim=0).numpy()     # concatenate all predictions and convert to a numpy array\n",
        "    return preds"
      ],
      "execution_count": 50,
      "outputs": []
    },
    {
      "cell_type": "markdown",
      "metadata": {
        "id": "SvckkF5dvf0j"
      },
      "source": [
        "# **Setup Hyper-parameters**\n",
        "\n",
        "`config` contains hyper-parameters for training and the path to save your model."
      ]
    },
    {
      "cell_type": "code",
      "metadata": {
        "id": "NPXpdumwPjE7"
      },
      "source": [
        "device = get_device()                 # get the current available device ('cpu' or 'cuda')\n",
        "os.makedirs('models', exist_ok=True)  # The trained model will be saved to ./models/\n",
        "target_only = True                   # TODO: Using 40 states & 2 tested_positive features\n",
        "\n",
        "# TODO: How to tune these hyper-parameters to improve your model's performance?\n",
        "# config = {\n",
        "#     'n_epochs': 3000,                # maximum number of epochs\n",
        "#     'batch_size': 128,               # mini-batch size for dataloader\n",
        "#     'optimizer': 'Adam',              # optimization algorithm (optimizer in torch.optim)\n",
        "#     'optim_hparas': {                # hyper-parameters for the optimizer (depends on which optimizer you are using)\n",
        "#         'lr': 0.001,                 # learning rate of SGD\n",
        "#        'betas': (0.9, 0.999),       # 添加Adam的beta参数\n",
        "#         'weight_decay': 1e-4         # 增加权重衰减强度\n",
        "#     },\n",
        "#     'early_stop': 50,               # early stopping epochs (the number epochs since your model's last improvement)\n",
        "#     'lr_scheduler': {               # 添加学习率调度器\n",
        "#         'type': 'ReduceLROnPlateau',\n",
        "#         'patience': 15,\n",
        "#         'factor': 0.5,\n",
        "#         'min_lr': 1e-6\n",
        "#     },\n",
        "#     'save_path': 'models/model.pth'  # your model will be saved here\n",
        "# }\n",
        "\n",
        "config = {\n",
        "    'n_epochs': 5000,                # 因为有early_stop，所以大一点没有影响\n",
        "    'batch_size': 128,               # 微调batchsize\n",
        "    'optimizer': 'Adam',              # 使用Adam优化器\n",
        "    'optim_hparas': {                # 完全使用默认参数\n",
        "        #'lr': 0.0005,\n",
        "        #'momentum': 0.9,\n",
        "        'weight_decay': 5e-4,\n",
        "    },\n",
        "    'early_stop': 500,               # 由于最后训练使用了所有数据，大一点影响不大\n",
        "    'save_path': 'models/model.pth'\n",
        "}"
      ],
      "execution_count": 43,
      "outputs": []
    },
    {
      "cell_type": "markdown",
      "metadata": {
        "id": "6j1eOV3TOH-j"
      },
      "source": [
        "# **Load data and model**"
      ]
    },
    {
      "cell_type": "code",
      "metadata": {
        "colab": {
          "base_uri": "https://localhost:8080/"
        },
        "id": "eNrYBMmePLKm",
        "outputId": "a4679063-f4e4-484f-ab69-fd31556144bf"
      },
      "source": [
        "tr_set = prep_dataloader(tr_path, 'train', config['batch_size'], target_only=target_only)\n",
        "dv_set = prep_dataloader(tr_path, 'dev', config['batch_size'], target_only=target_only)\n",
        "tt_set = prep_dataloader(tt_path, 'test', config['batch_size'], target_only=target_only)"
      ],
      "execution_count": 44,
      "outputs": [
        {
          "output_type": "stream",
          "name": "stderr",
          "text": [
            "/tmp/ipython-input-7-578381013.py:44: UserWarning: std(): degrees of freedom is <= 0. Correction should be strictly less than the reduction factor (input numel divided by output numel). (Triggered internally at /pytorch/aten/src/ATen/native/ReduceOps.cpp:1831.)\n",
            "  / self.data[:, 40:].std(dim=0, keepdim=True)\n"
          ]
        },
        {
          "output_type": "stream",
          "name": "stdout",
          "text": [
            "Finished reading the train set of COVID19 Dataset (2430 samples found, each dim = 14)\n",
            "Finished reading the dev set of COVID19 Dataset (270 samples found, each dim = 14)\n",
            "Finished reading the test set of COVID19 Dataset (893 samples found, each dim = 14)\n"
          ]
        }
      ]
    },
    {
      "cell_type": "code",
      "metadata": {
        "id": "FHylSirLP9oh"
      },
      "source": [
        "model = ImprovedNeuralNet(tr_set.dataset.dim).to(device)  # Construct model and move to device"
      ],
      "execution_count": 45,
      "outputs": []
    },
    {
      "cell_type": "markdown",
      "metadata": {
        "id": "sX2B_zgSOPTJ"
      },
      "source": [
        "# **Start Training!**"
      ]
    },
    {
      "cell_type": "code",
      "metadata": {
        "colab": {
          "base_uri": "https://localhost:8080/"
        },
        "id": "GrEbUxazQAAZ",
        "outputId": "4c1ad197-d403-40e8-a993-02681b3ef7a3"
      },
      "source": [
        "model_loss, model_loss_record = train(tr_set, dv_set, model, config, device)"
      ],
      "execution_count": 46,
      "outputs": [
        {
          "output_type": "stream",
          "name": "stdout",
          "text": [
            "Saving model (epoch =    1, loss = 294.3728),lr = 0.0010\n",
            "Saving model (epoch =    2, loss = 290.5365),lr = 0.0010\n",
            "Saving model (epoch =    3, loss = 277.9929),lr = 0.0010\n",
            "Saving model (epoch =    4, loss = 255.0108),lr = 0.0010\n",
            "Saving model (epoch =    5, loss = 227.1333),lr = 0.0010\n",
            "Saving model (epoch =    6, loss = 213.2934),lr = 0.0010\n",
            "Saving model (epoch =    7, loss = 210.7626),lr = 0.0010\n",
            "Saving model (epoch =    8, loss = 193.2046),lr = 0.0010\n",
            "Saving model (epoch =    9, loss = 186.6043),lr = 0.0010\n",
            "Saving model (epoch =   10, loss = 162.5373),lr = 0.0010\n",
            "Saving model (epoch =   11, loss = 148.9254),lr = 0.0010\n",
            "Saving model (epoch =   12, loss = 118.6217),lr = 0.0010\n",
            "Saving model (epoch =   13, loss = 110.5162),lr = 0.0010\n",
            "Saving model (epoch =   15, loss = 99.1489),lr = 0.0010\n",
            "Saving model (epoch =   16, loss = 97.7135),lr = 0.0010\n",
            "Saving model (epoch =   17, loss = 96.4366),lr = 0.0010\n",
            "Saving model (epoch =   18, loss = 71.8165),lr = 0.0010\n",
            "Saving model (epoch =   19, loss = 52.1808),lr = 0.0010\n",
            "Saving model (epoch =   21, loss = 51.2404),lr = 0.0010\n",
            "Saving model (epoch =   23, loss = 39.3817),lr = 0.0010\n",
            "Saving model (epoch =   24, loss = 35.2649),lr = 0.0010\n",
            "Saving model (epoch =   25, loss = 24.0706),lr = 0.0010\n",
            "Saving model (epoch =   28, loss = 12.6621),lr = 0.0010\n",
            "Saving model (epoch =   35, loss = 9.1373),lr = 0.0010\n",
            "Saving model (epoch =   40, loss = 9.0797),lr = 0.0010\n",
            "Saving model (epoch =   41, loss = 8.3511),lr = 0.0010\n",
            "Saving model (epoch =   43, loss = 7.6830),lr = 0.0010\n",
            "Saving model (epoch =   44, loss = 7.5619),lr = 0.0010\n",
            "Saving model (epoch =   48, loss = 6.8759),lr = 0.0010\n",
            "Saving model (epoch =   55, loss = 6.6723),lr = 0.0010\n",
            "Saving model (epoch =   59, loss = 5.8435),lr = 0.0010\n",
            "Saving model (epoch =   66, loss = 5.0526),lr = 0.0010\n",
            "Saving model (epoch =   71, loss = 4.7088),lr = 0.0010\n",
            "Saving model (epoch =   76, loss = 4.3995),lr = 0.0010\n",
            "Saving model (epoch =   78, loss = 4.2669),lr = 0.0010\n",
            "Saving model (epoch =   86, loss = 3.9945),lr = 0.0010\n",
            "Saving model (epoch =   87, loss = 3.6948),lr = 0.0010\n",
            "Saving model (epoch =   97, loss = 3.2799),lr = 0.0010\n",
            "Saving model (epoch =  100, loss = 3.1875),lr = 0.0010\n",
            "Saving model (epoch =  102, loss = 2.7283),lr = 0.0010\n",
            "Saving model (epoch =  108, loss = 2.4893),lr = 0.0010\n",
            "Saving model (epoch =  110, loss = 2.4268),lr = 0.0010\n",
            "Saving model (epoch =  113, loss = 2.4067),lr = 0.0010\n",
            "Saving model (epoch =  115, loss = 2.2572),lr = 0.0010\n",
            "Saving model (epoch =  121, loss = 2.2513),lr = 0.0010\n",
            "Saving model (epoch =  122, loss = 2.1428),lr = 0.0010\n",
            "Saving model (epoch =  125, loss = 2.0215),lr = 0.0010\n",
            "Saving model (epoch =  128, loss = 1.8668),lr = 0.0010\n",
            "Saving model (epoch =  129, loss = 1.8165),lr = 0.0010\n",
            "Saving model (epoch =  133, loss = 1.7068),lr = 0.0010\n",
            "Saving model (epoch =  139, loss = 1.6594),lr = 0.0010\n",
            "Saving model (epoch =  141, loss = 1.6213),lr = 0.0010\n",
            "Saving model (epoch =  144, loss = 1.5488),lr = 0.0010\n",
            "Saving model (epoch =  145, loss = 1.4763),lr = 0.0010\n",
            "Saving model (epoch =  156, loss = 1.3247),lr = 0.0010\n",
            "Saving model (epoch =  157, loss = 1.3147),lr = 0.0010\n",
            "Saving model (epoch =  162, loss = 1.2521),lr = 0.0010\n",
            "Saving model (epoch =  169, loss = 1.2235),lr = 0.0010\n",
            "Saving model (epoch =  181, loss = 1.1871),lr = 0.0010\n",
            "Saving model (epoch =  183, loss = 1.1413),lr = 0.0010\n",
            "Saving model (epoch =  185, loss = 1.0830),lr = 0.0010\n",
            "Saving model (epoch =  192, loss = 1.0683),lr = 0.0010\n",
            "Saving model (epoch =  193, loss = 1.0441),lr = 0.0010\n",
            "Saving model (epoch =  203, loss = 1.0414),lr = 0.0010\n",
            "Saving model (epoch =  206, loss = 0.9798),lr = 0.0010\n",
            "Saving model (epoch =  223, loss = 0.9618),lr = 0.0010\n",
            "Saving model (epoch =  236, loss = 0.9526),lr = 0.0010\n",
            "Saving model (epoch =  239, loss = 0.9175),lr = 0.0010\n",
            "Saving model (epoch =  250, loss = 0.9099),lr = 0.0010\n",
            "Saving model (epoch =  278, loss = 0.8999),lr = 0.0010\n",
            "Saving model (epoch =  282, loss = 0.8912),lr = 0.0010\n",
            "Saving model (epoch =  292, loss = 0.8862),lr = 0.0010\n",
            "Saving model (epoch =  309, loss = 0.8859),lr = 0.0010\n",
            "Saving model (epoch =  310, loss = 0.8727),lr = 0.0010\n",
            "Saving model (epoch =  331, loss = 0.8693),lr = 0.0010\n",
            "Saving model (epoch =  333, loss = 0.8527),lr = 0.0010\n",
            "Saving model (epoch =  406, loss = 0.8472),lr = 0.0010\n",
            "Saving model (epoch =  484, loss = 0.8420),lr = 0.0010\n",
            "Saving model (epoch =  537, loss = 0.8405),lr = 0.0010\n",
            "Saving model (epoch =  629, loss = 0.8379),lr = 0.0010\n",
            "Finished training after 1130 epochs\n"
          ]
        }
      ]
    },
    {
      "cell_type": "code",
      "metadata": {
        "colab": {
          "base_uri": "https://localhost:8080/",
          "height": 410
        },
        "id": "hsNO9nnXQBvP",
        "outputId": "a9f6c17e-7c1a-43a9-9398-8a3865663d6e"
      },
      "source": [
        "plot_learning_curve(model_loss_record, title='deep model')"
      ],
      "execution_count": 47,
      "outputs": [
        {
          "output_type": "display_data",
          "data": {
            "text/plain": [
              "<Figure size 600x400 with 1 Axes>"
            ],
            "image/png": "[encoded data removed]"
          },
          "metadata": {}
        }
      ]
    },
    {
      "cell_type": "code",
      "metadata": {
        "colab": {
          "base_uri": "https://localhost:8080/",
          "height": 487
        },
        "id": "3iZTVn5WQFpX",
        "outputId": "176d9191-66f8-47c7-cad3-daba93981bd4"
      },
      "source": [
        "del model\n",
        "model = ImprovedNeuralNet(tr_set.dataset.dim).to(device)\n",
        "ckpt = torch.load(config['save_path'], map_location='cpu')  # Load your best model\n",
        "model.load_state_dict(ckpt)\n",
        "plot_pred(dv_set, model, device)  # Show prediction on the validation set"
      ],
      "execution_count": 48,
      "outputs": [
        {
          "output_type": "display_data",
          "data": {
            "text/plain": [
              "<Figure size 500x500 with 1 Axes>"
            ],
            "image/png": "[encoded data removed]"
          },
          "metadata": {}
        }
      ]
    },
    {
      "cell_type": "markdown",
      "metadata": {
        "id": "aQikz3IPiyPf"
      },
      "source": [
        "# **Testing**\n",
        "The predictions of your model on testing set will be stored at `pred.csv`."
      ]
    },
    {
      "cell_type": "code",
      "metadata": {
        "colab": {
          "base_uri": "https://localhost:8080/"
        },
        "id": "O8cTuQjQQOon",
        "outputId": "cffc52ba-412c-4b14-a86b-caa07c40aa4b"
      },
      "source": [
        "def save_pred(preds, file):\n",
        "    ''' Save predictions to specified file '''\n",
        "    print('Saving results to {}'.format(file))\n",
        "    with open(file, 'w') as fp:\n",
        "        writer = csv.writer(fp)\n",
        "        writer.writerow(['id', 'tested_positive'])\n",
        "        for i, p in enumerate(preds):\n",
        "            writer.writerow([i, p])\n",
        "\n",
        "preds = test(tt_set, model, device)  # predict COVID-19 cases with your model\n",
        "save_pred(preds, 'pred.csv')         # save prediction file to pred.csv"
      ],
      "execution_count": 51,
      "outputs": [
        {
          "output_type": "stream",
          "name": "stdout",
          "text": [
            "Saving results to pred.csv\n"
          ]
        }
      ]
    },
    {
      "cell_type": "markdown",
      "metadata": {
        "id": "nfrVxqJanGpE"
      },
      "source": [
        "# **Hints**\n",
        "\n",
        "## **Simple Baseline**\n",
        "* Run sample code\n",
        "\n",
        "## **Medium Baseline**\n",
        "* Feature selection: 40 states + 2 `tested_positive` (`TODO` in dataset)\n",
        "\n",
        "## **Strong Baseline**\n",
        "* Feature selection (what other features are useful?)\n",
        "* DNN architecture (layers? dimension? activation function?)\n",
        "* Training (mini-batch? optimizer? learning rate?)\n",
        "* L2 regularization\n",
        "* There are some mistakes in the sample code, can you find them?"
      ]
    },
    {
      "cell_type": "markdown",
      "metadata": {
        "id": "9tmCwXgpot3t"
      },
      "source": [
        "# **Reference**\n",
        "This code is completely written by Heng-Jui Chang @ NTUEE.  \n",
        "Copying or reusing this code is required to specify the original author.\n",
        "\n",
        "E.g.  \n",
        "Source: Heng-Jui Chang @ NTUEE (https://github.com/ga642381/ML2021-Spring/blob/main/HW01/HW01.ipynb)\n"
      ]
    }
  ]
}