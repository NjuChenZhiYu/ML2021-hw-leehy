{
  "nbformat": 4,
  "nbformat_minor": 0,
  "metadata": {
    "colab": {
      "name": "ML2021Spring - HW1.ipynb",
      "provenance": [],
      "include_colab_link": true
    },
    "kernelspec": {
      "name": "python3",
      "display_name": "Python 3"
    },
    "accelerator": "GPU"
  },
  "cells": [
    {
      "cell_type": "markdown",
      "metadata": {
        "id": "view-in-github",
        "colab_type": "text"
      },
      "source": [
        "<a href=\"https://colab.research.google.com/github/NjuChenZhiYu/ML2021-hw-leehy/blob/develop/HW01/HW01-mid.ipynb\" target=\"_parent\"><img src=\"https://colab.research.google.com/assets/colab-badge.svg\" alt=\"Open In Colab\"/></a>"
      ]
    },
    {
      "cell_type": "markdown",
      "metadata": {
        "id": "mz0_QVkxCrX3"
      },
      "source": [
        "# **Homework 1: COVID-19 Cases Prediction (Regression)**"
      ]
    },
    {
      "cell_type": "markdown",
      "metadata": {
        "id": "ZeZnPAiwDRWG"
      },
      "source": [
        "Author: Heng-Jui Chang\n",
        "\n",
        "Slides: https://github.com/ga642381/ML2021-Spring/blob/main/HW01/HW01.pdf  \n",
        "Videos (Mandarin): https://cool.ntu.edu.tw/courses/4793/modules/items/172854  \n",
        "https://cool.ntu.edu.tw/courses/4793/modules/items/172853  \n",
        "Video (English): https://cool.ntu.edu.tw/courses/4793/modules/items/176529\n",
        "\n",
        "\n",
        "Objectives:\n",
        "* Solve a regression problem with deep neural networks (DNN).\n",
        "* Understand basic DNN training tips.\n",
        "* Get familiar with PyTorch.\n",
        "\n",
        "If any questions, please contact the TAs via TA hours, NTU COOL, or email.\n"
      ]
    },
    {
      "cell_type": "markdown",
      "metadata": {
        "id": "Jx3x1nDkG-Uy"
      },
      "source": [
        "# **Download Data**\n",
        "\n",
        "\n",
        "If the Google drive links are dead, you can download data from [kaggle](https://www.kaggle.com/c/ml2021spring-hw1/data), and upload data manually to the workspace."
      ]
    },
    {
      "cell_type": "code",
      "metadata": {
        "colab": {
          "base_uri": "https://localhost:8080/"
        },
        "id": "tMj55YDKG6ch",
        "outputId": "711e2e85-5b67-4436-aff6-ce0b92454ba8"
      },
      "source": [
        "tr_path = 'covid.train.csv'  # path to training data\n",
        "tt_path = 'covid.test.csv'   # path to testing data\n",
        "\n",
        "!gdown --id '19CCyCgJrUxtvgZF53vnctJiOJ23T5mqF' --output covid.train.csv\n",
        "!gdown --id '1CE240jLm2npU-tdz81-oVKEF3T2yfT1O' --output covid.test.csv"
      ],
      "execution_count": 1,
      "outputs": [
        {
          "output_type": "stream",
          "name": "stdout",
          "text": [
            "/usr/local/lib/python3.11/dist-packages/gdown/__main__.py:140: FutureWarning: Option `--id` was deprecated in version 4.3.1 and will be removed in 5.0. You don't need to pass it anymore to use a file ID.\n",
            "  warnings.warn(\n",
            "Downloading...\n",
            "From: https://drive.google.com/uc?id=19CCyCgJrUxtvgZF53vnctJiOJ23T5mqF\n",
            "To: /content/covid.train.csv\n",
            "100% 2.00M/2.00M [00:00<00:00, 176MB/s]\n",
            "/usr/local/lib/python3.11/dist-packages/gdown/__main__.py:140: FutureWarning: Option `--id` was deprecated in version 4.3.1 and will be removed in 5.0. You don't need to pass it anymore to use a file ID.\n",
            "  warnings.warn(\n",
            "Downloading...\n",
            "From: https://drive.google.com/uc?id=1CE240jLm2npU-tdz81-oVKEF3T2yfT1O\n",
            "To: /content/covid.test.csv\n",
            "100% 651k/651k [00:00<00:00, 125MB/s]\n"
          ]
        }
      ]
    },
    {
      "cell_type": "markdown",
      "metadata": {
        "id": "wS_4-77xHk44"
      },
      "source": [
        "# **Import Some Packages**"
      ]
    },
    {
      "cell_type": "code",
      "metadata": {
        "id": "k-onQd4JNA5H"
      },
      "source": [
        "# PyTorch\n",
        "import torch\n",
        "import torch.nn as nn\n",
        "from torch.utils.data import Dataset, DataLoader\n",
        "\n",
        "# For data preprocess\n",
        "import numpy as np\n",
        "import csv\n",
        "import os\n",
        "\n",
        "# For plotting\n",
        "import matplotlib.pyplot as plt\n",
        "from matplotlib.pyplot import figure\n",
        "\n",
        "myseed = 42069  # set a random seed for reproducibility\n",
        "torch.backends.cudnn.deterministic = True\n",
        "torch.backends.cudnn.benchmark = False\n",
        "np.random.seed(myseed)\n",
        "torch.manual_seed(myseed)\n",
        "if torch.cuda.is_available():\n",
        "    torch.cuda.manual_seed_all(myseed)"
      ],
      "execution_count": 2,
      "outputs": []
    },
    {
      "cell_type": "markdown",
      "metadata": {
        "id": "BtE3b6JEH7rw"
      },
      "source": [
        "# **Some Utilities**\n",
        "\n",
        "You do not need to modify this part."
      ]
    },
    {
      "cell_type": "code",
      "metadata": {
        "id": "FWMT3uf1NGQp"
      },
      "source": [
        "def get_device():\n",
        "    ''' Get device (if GPU is available, use GPU) '''\n",
        "    return 'cuda' if torch.cuda.is_available() else 'cpu'\n",
        "\n",
        "def plot_learning_curve(loss_record, title=''):\n",
        "    ''' Plot learning curve of your DNN (train & dev loss) '''\n",
        "    total_steps = len(loss_record['train'])\n",
        "    x_1 = range(total_steps)\n",
        "    x_2 = x_1[::len(loss_record['train']) // len(loss_record['dev'])]\n",
        "    figure(figsize=(6, 4))\n",
        "    plt.plot(x_1, loss_record['train'], c='tab:red', label='train')\n",
        "    plt.plot(x_2, loss_record['dev'], c='tab:cyan', label='dev')\n",
        "    plt.ylim(0.0, 5.)\n",
        "    plt.xlabel('Training steps')\n",
        "    plt.ylabel('MSE loss')\n",
        "    plt.title('Learning curve of {}'.format(title))\n",
        "    plt.legend()\n",
        "    plt.show()\n",
        "\n",
        "\n",
        "def plot_pred(dv_set, model, device, lim=35., preds=None, targets=None):\n",
        "    ''' Plot prediction of your DNN '''\n",
        "    if preds is None or targets is None:\n",
        "        model.eval()\n",
        "        preds, targets = [], []\n",
        "        for x, y in dv_set:\n",
        "            x, y = x.to(device), y.to(device)\n",
        "            with torch.no_grad():\n",
        "                pred = model(x)\n",
        "                preds.append(pred.detach().cpu())\n",
        "                targets.append(y.detach().cpu())\n",
        "        preds = torch.cat(preds, dim=0).numpy()\n",
        "        targets = torch.cat(targets, dim=0).numpy()\n",
        "\n",
        "    figure(figsize=(5, 5))\n",
        "    plt.scatter(targets, preds, c='r', alpha=0.5)\n",
        "    plt.plot([-0.2, lim], [-0.2, lim], c='b')\n",
        "    plt.xlim(-0.2, lim)\n",
        "    plt.ylim(-0.2, lim)\n",
        "    plt.xlabel('ground truth value')\n",
        "    plt.ylabel('predicted value')\n",
        "    plt.title('Ground Truth v.s. Prediction')\n",
        "    plt.show()"
      ],
      "execution_count": 3,
      "outputs": []
    },
    {
      "cell_type": "code",
      "source": [
        "torch.cuda.is_available()"
      ],
      "metadata": {
        "id": "g7SLPTyg9FSE",
        "outputId": "3ba76b24-a31e-4f49-bc5e-b06e5677ed01",
        "colab": {
          "base_uri": "https://localhost:8080/"
        }
      },
      "execution_count": 4,
      "outputs": [
        {
          "output_type": "execute_result",
          "data": {
            "text/plain": [
              "True"
            ]
          },
          "metadata": {},
          "execution_count": 4
        }
      ]
    },
    {
      "cell_type": "markdown",
      "metadata": {
        "id": "39U_XFX6KOoj"
      },
      "source": [
        "# **Preprocess**\n",
        "\n",
        "We have three kinds of datasets:\n",
        "* `train`: for training\n",
        "* `dev`: for validation\n",
        "* `test`: for testing (w/o target value)"
      ]
    },
    {
      "cell_type": "markdown",
      "metadata": {
        "id": "TQ-MdwpLL7Dt"
      },
      "source": [
        "## **Dataset**\n",
        "\n",
        "The `COVID19Dataset` below does:\n",
        "* read `.csv` files\n",
        "* extract features\n",
        "* split `covid.train.csv` into train/dev sets\n",
        "* normalize features\n",
        "\n",
        "Finishing `TODO` below might make you pass medium baseline."
      ]
    },
    {
      "cell_type": "code",
      "source": [
        "import pandas as pd\n",
        "import numpy as np\n",
        "import matplotlib.pyplot as plt\n",
        "\n",
        "# 1. 读取数据文件\n",
        "file_path = '/content/covid.train.csv'  # 替换为你的实际文件路径\n",
        "df = pd.read_csv(file_path)\n",
        "\n",
        "# 2. 初步查看数据结构\n",
        "print(\"=\"*50)\n",
        "print(\"数据概览:\")\n",
        "print(f\"数据集形状: {df.shape}\")  # (行数, 列数)\n",
        "print(f\"前5行数据:\")\n",
        "print(df.head())\n",
        "print(\"\\n列名列表:\")\n",
        "print(df.columns.tolist())\n",
        "\n",
        "# 3. 创建列索引映射表\n",
        "# 为每个列名创建索引映射\n",
        "# column_index_map = {col: idx for idx, col in enumerate(df.columns)}\n",
        "# print(\"\\n\" + \"=\"*50)\n",
        "# print(\"列名索引映射表:\")\n",
        "# for idx, col in enumerate(df.columns):\n",
        "#     print(f\"索引 {idx}: {col}\")\n",
        "\n",
        "# 4. 可视化列分布（可选）\n",
        "# plt.figure(figsize=(12, 8))\n",
        "# df.hist(layout=(10, 10), bins=30)  # 10x10的直方图网格\n",
        "# plt.suptitle('特征分布直方图', fontsize=16)\n",
        "# plt.tight_layout(rect=[0, 0, 1, 0.96])\n",
        "# plt.savefig('feature_distributions.png')\n",
        "# plt.close()\n",
        "\n",
        "# 5. 根据要求提取特定列\n",
        "# 根据题目要求：40个州特征 + 索引57和75的tested_positive特征\n",
        "\n",
        "# 5.1 确认索引57和75对应的列名\n",
        "try:\n",
        "    col_57 = df.columns[58]\n",
        "    col_75 = df.columns[76]\n",
        "    print(\"\\n\" + \"=\"*50)\n",
        "    print(f\"索引57的列名: {col_57}\")\n",
        "    print(f\"索引75的列名: {col_75}\")\n",
        "\n",
        "    # 5.2 提取前40列（州特征）\n",
        "    state_columns = df.columns[1:41]\n",
        "\n",
        "    # 5.3 组合所有需要的列\n",
        "    selected_columns = list(state_columns) + [col_57, col_75]\n",
        "\n",
        "    # 5.4 创建新的数据子集\n",
        "    selected_df = df[selected_columns].copy()\n",
        "\n",
        "    print(\"\\n\" + \"=\"*50)\n",
        "    print(\"提取后的数据子集信息:\")\n",
        "    print(f\"子集形状: {selected_df.shape}\")\n",
        "    print(f\"包含的列: {selected_df.columns.tolist()}\")\n",
        "    print(\"\\n子集前5行:\")\n",
        "    print(selected_df.head())\n",
        "\n",
        "    # 6. 数据质量检查\n",
        "    print(\"\\n\" + \"=\"*50)\n",
        "    print(\"数据质量报告:\")\n",
        "    print(\"缺失值统计:\")\n",
        "    print(selected_df.isnull().sum())\n",
        "\n",
        "    print(\"\\n数据类型:\")\n",
        "    print(selected_df.dtypes)\n",
        "\n",
        "    # 7. 保存提取后的数据集（可选）\n",
        "    selected_df.to_csv('selected_covid_features.csv', index=False)\n",
        "    print(\"\\n已保存提取后的数据集到 selected_covid_features.csv\")\n",
        "\n",
        "except IndexError as e:\n",
        "    print(\"\\n错误: 索引超出范围!\")\n",
        "    print(f\"数据集只有 {len(df.columns)} 列，但尝试访问索引57或75\")\n",
        "    print(\"请检查数据并调整索引值\")\n",
        "\n",
        "# 8. 特征相关性分析（针对目标变量）\n",
        "# 假设目标变量是传播率，列名为'spread_rate'\n",
        "if 'spread_rate' in df.columns:\n",
        "    # 计算所有特征与目标的相关性\n",
        "    correlation_with_target = df.corr()['spread_rate'].sort_values(ascending=False)\n",
        "\n",
        "    print(\"\\n\" + \"=\"*50)\n",
        "    print(\"特征与目标变量的相关性排序:\")\n",
        "    print(correlation_with_target)\n",
        "\n",
        "    # 可视化相关性\n",
        "    plt.figure(figsize=(10, 8))\n",
        "    correlation_with_target.drop('spread_rate').plot(kind='bar')\n",
        "    plt.title('特征与传播率的相关性')\n",
        "    plt.ylabel('相关系数')\n",
        "    plt.xticks(rotation=90)\n",
        "    plt.tight_layout()\n",
        "    plt.savefig('feature_correlations.png')\n",
        "    plt.close()\n",
        "else:\n",
        "    print(\"\\n未找到目标变量 'spread_rate'，跳过相关性分析\")"
      ],
      "metadata": {
        "colab": {
          "base_uri": "https://localhost:8080/"
        },
        "id": "zw9UyArpYAMA",
        "outputId": "64709ff1-42e7-413e-c943-ab59b7fcbe04"
      },
      "execution_count": 5,
      "outputs": [
        {
          "output_type": "stream",
          "name": "stdout",
          "text": [
            "==================================================\n",
            "数据概览:\n",
            "数据集形状: (2700, 95)\n",
            "前5行数据:\n",
            "   id   AL   AK   AZ   AR   CA   CO   CT   FL   GA  ...  restaurant.2  \\\n",
            "0   0  1.0  0.0  0.0  0.0  0.0  0.0  0.0  0.0  0.0  ...     23.812411   \n",
            "1   1  1.0  0.0  0.0  0.0  0.0  0.0  0.0  0.0  0.0  ...     23.682974   \n",
            "2   2  1.0  0.0  0.0  0.0  0.0  0.0  0.0  0.0  0.0  ...     23.593983   \n",
            "3   3  1.0  0.0  0.0  0.0  0.0  0.0  0.0  0.0  0.0  ...     22.576992   \n",
            "4   4  1.0  0.0  0.0  0.0  0.0  0.0  0.0  0.0  0.0  ...     22.091433   \n",
            "\n",
            "   spent_time.2  large_event.2  public_transit.2  anxious.2  depressed.2  \\\n",
            "0     43.430423      16.151527          1.602635  15.409449    12.088688   \n",
            "1     43.196313      16.123386          1.641863  15.230063    11.809047   \n",
            "2     43.362200      16.159971          1.677523  15.717207    12.355918   \n",
            "3     42.954574      15.544373          1.578030  15.295650    12.218123   \n",
            "4     43.290957      15.214655          1.641667  14.778802    12.417256   \n",
            "\n",
            "   felt_isolated.2  worried_become_ill.2  worried_finances.2  \\\n",
            "0        16.702086             53.991549           43.604229   \n",
            "1        16.506973             54.185521           42.665766   \n",
            "2        16.273294             53.637069           42.972417   \n",
            "3        16.045504             52.446223           42.907472   \n",
            "4        16.134238             52.560315           43.321985   \n",
            "\n",
            "   tested_positive.2  \n",
            "0          20.704935  \n",
            "1          21.292911  \n",
            "2          21.166656  \n",
            "3          19.896607  \n",
            "4          20.178428  \n",
            "\n",
            "[5 rows x 95 columns]\n",
            "\n",
            "列名列表:\n",
            "['id', 'AL', 'AK', 'AZ', 'AR', 'CA', 'CO', 'CT', 'FL', 'GA', 'ID', 'IL', 'IN', 'IA', 'KS', 'KY', 'LA', 'MD', 'MA', 'MI', 'MN', 'MS', 'MO', 'NE', 'NV', 'NJ', 'NM', 'NY', 'NC', 'OH', 'OK', 'OR', 'PA', 'RI', 'SC', 'TX', 'UT', 'VA', 'WA', 'WV', 'WI', 'cli', 'ili', 'hh_cmnty_cli', 'nohh_cmnty_cli', 'wearing_mask', 'travel_outside_state', 'work_outside_home', 'shop', 'restaurant', 'spent_time', 'large_event', 'public_transit', 'anxious', 'depressed', 'felt_isolated', 'worried_become_ill', 'worried_finances', 'tested_positive', 'cli.1', 'ili.1', 'hh_cmnty_cli.1', 'nohh_cmnty_cli.1', 'wearing_mask.1', 'travel_outside_state.1', 'work_outside_home.1', 'shop.1', 'restaurant.1', 'spent_time.1', 'large_event.1', 'public_transit.1', 'anxious.1', 'depressed.1', 'felt_isolated.1', 'worried_become_ill.1', 'worried_finances.1', 'tested_positive.1', 'cli.2', 'ili.2', 'hh_cmnty_cli.2', 'nohh_cmnty_cli.2', 'wearing_mask.2', 'travel_outside_state.2', 'work_outside_home.2', 'shop.2', 'restaurant.2', 'spent_time.2', 'large_event.2', 'public_transit.2', 'anxious.2', 'depressed.2', 'felt_isolated.2', 'worried_become_ill.2', 'worried_finances.2', 'tested_positive.2']\n",
            "\n",
            "==================================================\n",
            "索引57的列名: tested_positive\n",
            "索引75的列名: tested_positive.1\n",
            "\n",
            "==================================================\n",
            "提取后的数据子集信息:\n",
            "子集形状: (2700, 42)\n",
            "包含的列: ['AL', 'AK', 'AZ', 'AR', 'CA', 'CO', 'CT', 'FL', 'GA', 'ID', 'IL', 'IN', 'IA', 'KS', 'KY', 'LA', 'MD', 'MA', 'MI', 'MN', 'MS', 'MO', 'NE', 'NV', 'NJ', 'NM', 'NY', 'NC', 'OH', 'OK', 'OR', 'PA', 'RI', 'SC', 'TX', 'UT', 'VA', 'WA', 'WV', 'WI', 'tested_positive', 'tested_positive.1']\n",
            "\n",
            "子集前5行:\n",
            "    AL   AK   AZ   AR   CA   CO   CT   FL   GA   ID  ...   RI   SC   TX   UT  \\\n",
            "0  1.0  0.0  0.0  0.0  0.0  0.0  0.0  0.0  0.0  0.0  ...  0.0  0.0  0.0  0.0   \n",
            "1  1.0  0.0  0.0  0.0  0.0  0.0  0.0  0.0  0.0  0.0  ...  0.0  0.0  0.0  0.0   \n",
            "2  1.0  0.0  0.0  0.0  0.0  0.0  0.0  0.0  0.0  0.0  ...  0.0  0.0  0.0  0.0   \n",
            "3  1.0  0.0  0.0  0.0  0.0  0.0  0.0  0.0  0.0  0.0  ...  0.0  0.0  0.0  0.0   \n",
            "4  1.0  0.0  0.0  0.0  0.0  0.0  0.0  0.0  0.0  0.0  ...  0.0  0.0  0.0  0.0   \n",
            "\n",
            "    VA   WA   WV   WI  tested_positive  tested_positive.1  \n",
            "0  0.0  0.0  0.0  0.0        19.586492          20.151838  \n",
            "1  0.0  0.0  0.0  0.0        20.151838          20.704935  \n",
            "2  0.0  0.0  0.0  0.0        20.704935          21.292911  \n",
            "3  0.0  0.0  0.0  0.0        21.292911          21.166656  \n",
            "4  0.0  0.0  0.0  0.0        21.166656          19.896607  \n",
            "\n",
            "[5 rows x 42 columns]\n",
            "\n",
            "==================================================\n",
            "数据质量报告:\n",
            "缺失值统计:\n",
            "AL                   0\n",
            "AK                   0\n",
            "AZ                   0\n",
            "AR                   0\n",
            "CA                   0\n",
            "CO                   0\n",
            "CT                   0\n",
            "FL                   0\n",
            "GA                   0\n",
            "ID                   0\n",
            "IL                   0\n",
            "IN                   0\n",
            "IA                   0\n",
            "KS                   0\n",
            "KY                   0\n",
            "LA                   0\n",
            "MD                   0\n",
            "MA                   0\n",
            "MI                   0\n",
            "MN                   0\n",
            "MS                   0\n",
            "MO                   0\n",
            "NE                   0\n",
            "NV                   0\n",
            "NJ                   0\n",
            "NM                   0\n",
            "NY                   0\n",
            "NC                   0\n",
            "OH                   0\n",
            "OK                   0\n",
            "OR                   0\n",
            "PA                   0\n",
            "RI                   0\n",
            "SC                   0\n",
            "TX                   0\n",
            "UT                   0\n",
            "VA                   0\n",
            "WA                   0\n",
            "WV                   0\n",
            "WI                   0\n",
            "tested_positive      0\n",
            "tested_positive.1    0\n",
            "dtype: int64\n",
            "\n",
            "数据类型:\n",
            "AL                   float64\n",
            "AK                   float64\n",
            "AZ                   float64\n",
            "AR                   float64\n",
            "CA                   float64\n",
            "CO                   float64\n",
            "CT                   float64\n",
            "FL                   float64\n",
            "GA                   float64\n",
            "ID                   float64\n",
            "IL                   float64\n",
            "IN                   float64\n",
            "IA                   float64\n",
            "KS                   float64\n",
            "KY                   float64\n",
            "LA                   float64\n",
            "MD                   float64\n",
            "MA                   float64\n",
            "MI                   float64\n",
            "MN                   float64\n",
            "MS                   float64\n",
            "MO                   float64\n",
            "NE                   float64\n",
            "NV                   float64\n",
            "NJ                   float64\n",
            "NM                   float64\n",
            "NY                   float64\n",
            "NC                   float64\n",
            "OH                   float64\n",
            "OK                   float64\n",
            "OR                   float64\n",
            "PA                   float64\n",
            "RI                   float64\n",
            "SC                   float64\n",
            "TX                   float64\n",
            "UT                   float64\n",
            "VA                   float64\n",
            "WA                   float64\n",
            "WV                   float64\n",
            "WI                   float64\n",
            "tested_positive      float64\n",
            "tested_positive.1    float64\n",
            "dtype: object\n",
            "\n",
            "已保存提取后的数据集到 selected_covid_features.csv\n",
            "\n",
            "未找到目标变量 'spread_rate'，跳过相关性分析\n"
          ]
        }
      ]
    },
    {
      "cell_type": "code",
      "source": [
        "print(selected_df.columns)\n",
        "selected_np = selected_df.to_numpy()\n",
        "print(selected_df.loc[1:5, : ])"
      ],
      "metadata": {
        "id": "h8mfEqglayCe",
        "outputId": "de077d8d-ab1a-48b6-80ee-1f2223769b9a",
        "colab": {
          "base_uri": "https://localhost:8080/"
        }
      },
      "execution_count": 6,
      "outputs": [
        {
          "output_type": "stream",
          "name": "stdout",
          "text": [
            "Index(['AL', 'AK', 'AZ', 'AR', 'CA', 'CO', 'CT', 'FL', 'GA', 'ID', 'IL', 'IN',\n",
            "       'IA', 'KS', 'KY', 'LA', 'MD', 'MA', 'MI', 'MN', 'MS', 'MO', 'NE', 'NV',\n",
            "       'NJ', 'NM', 'NY', 'NC', 'OH', 'OK', 'OR', 'PA', 'RI', 'SC', 'TX', 'UT',\n",
            "       'VA', 'WA', 'WV', 'WI', 'tested_positive', 'tested_positive.1'],\n",
            "      dtype='object')\n",
            "    AL   AK   AZ   AR   CA   CO   CT   FL   GA   ID  ...   RI   SC   TX   UT  \\\n",
            "1  1.0  0.0  0.0  0.0  0.0  0.0  0.0  0.0  0.0  0.0  ...  0.0  0.0  0.0  0.0   \n",
            "2  1.0  0.0  0.0  0.0  0.0  0.0  0.0  0.0  0.0  0.0  ...  0.0  0.0  0.0  0.0   \n",
            "3  1.0  0.0  0.0  0.0  0.0  0.0  0.0  0.0  0.0  0.0  ...  0.0  0.0  0.0  0.0   \n",
            "4  1.0  0.0  0.0  0.0  0.0  0.0  0.0  0.0  0.0  0.0  ...  0.0  0.0  0.0  0.0   \n",
            "5  1.0  0.0  0.0  0.0  0.0  0.0  0.0  0.0  0.0  0.0  ...  0.0  0.0  0.0  0.0   \n",
            "\n",
            "    VA   WA   WV   WI  tested_positive  tested_positive.1  \n",
            "1  0.0  0.0  0.0  0.0        20.151838          20.704935  \n",
            "2  0.0  0.0  0.0  0.0        20.704935          21.292911  \n",
            "3  0.0  0.0  0.0  0.0        21.292911          21.166656  \n",
            "4  0.0  0.0  0.0  0.0        21.166656          19.896607  \n",
            "5  0.0  0.0  0.0  0.0        19.896607          20.178428  \n",
            "\n",
            "[5 rows x 42 columns]\n"
          ]
        }
      ]
    },
    {
      "cell_type": "code",
      "metadata": {
        "id": "0zlpIp9ANJRU"
      },
      "source": [
        "class COVID19Dataset(Dataset):\n",
        "    ''' Dataset for loading and preprocessing the COVID19 dataset '''\n",
        "    def __init__(self,\n",
        "                 path,\n",
        "                 mode='train',\n",
        "                 target_only=False):\n",
        "        self.mode = mode\n",
        "\n",
        "        # Read data into numpy arrays\n",
        "        with open(path, 'r') as fp:\n",
        "            data = list(csv.reader(fp))\n",
        "            data = np.array(data[1:])[:, 1:].astype(float)\n",
        "\n",
        "        if not target_only:\n",
        "            feats = list(range(93))\n",
        "        else:\n",
        "            # TODO: Using 40 states & 2 tested_positive features (indices = 57 & 75)\n",
        "            feats = list(range(40)) + [57,75]\n",
        "\n",
        "        if mode == 'test':\n",
        "            # Testing data\n",
        "            # data: 893 x 93 (40 states + day 1 (18) + day 2 (18) + day 3 (17))\n",
        "            data = data[:, feats]\n",
        "            self.data = torch.FloatTensor(data)\n",
        "        else:\n",
        "            # Training data (train/dev sets)\n",
        "            # data: 2700 x 94 (40 states + day 1 (18) + day 2 (18) + day 3 (18))\n",
        "            target = data[:, -1]\n",
        "            data = data[:, feats]\n",
        "\n",
        "            # Splitting training data into train & dev sets\n",
        "            if mode == 'train':\n",
        "                indices = [i for i in range(len(data)) if i % 10 != 0]\n",
        "            elif mode == 'dev':\n",
        "                indices = [i for i in range(len(data)) if i % 10 == 0]\n",
        "\n",
        "            # Convert data into PyTorch tensors\n",
        "            self.data = torch.FloatTensor(data[indices])\n",
        "            self.target = torch.FloatTensor(target[indices])\n",
        "\n",
        "        # Normalize features (you may remove this part to see what will happen)\n",
        "        self.data[:, 40:] = \\\n",
        "            (self.data[:, 40:] - self.data[:, 40:].mean(dim=0, keepdim=True)) \\\n",
        "            / self.data[:, 40:].std(dim=0, keepdim=True)\n",
        "\n",
        "        self.dim = self.data.shape[1]\n",
        "\n",
        "        print('Finished reading the {} set of COVID19 Dataset ({} samples found, each dim = {})'\n",
        "              .format(mode, len(self.data), self.dim))\n",
        "\n",
        "    def __getitem__(self, index):\n",
        "        # Returns one sample at a time\n",
        "        if self.mode in ['train', 'dev']:\n",
        "            # For training\n",
        "            return self.data[index], self.target[index]\n",
        "        else:\n",
        "            # For testing (no target)\n",
        "            return self.data[index]\n",
        "\n",
        "    def __len__(self):\n",
        "        # Returns the size of the dataset\n",
        "        return len(self.data)"
      ],
      "execution_count": 7,
      "outputs": []
    },
    {
      "cell_type": "markdown",
      "metadata": {
        "id": "AlhTlkE7MDo3"
      },
      "source": [
        "## **DataLoader**\n",
        "\n",
        "A `DataLoader` loads data from a given `Dataset` into batches.\n"
      ]
    },
    {
      "cell_type": "code",
      "metadata": {
        "id": "hlhLk5t6MBX3"
      },
      "source": [
        "def prep_dataloader(path, mode, batch_size, n_jobs=0, target_only=False):\n",
        "    ''' Generates a dataset, then is put into a dataloader. '''\n",
        "    dataset = COVID19Dataset(path, mode=mode, target_only=target_only)  # Construct dataset\n",
        "    dataloader = DataLoader(\n",
        "        dataset, batch_size,\n",
        "        shuffle=(mode == 'train'), drop_last=False,\n",
        "        num_workers=n_jobs, pin_memory=True)                            # Construct dataloader\n",
        "    return dataloader"
      ],
      "execution_count": 19,
      "outputs": []
    },
    {
      "cell_type": "markdown",
      "metadata": {
        "id": "SGuycwR0MeQB"
      },
      "source": [
        "# **Deep Neural Network**\n",
        "\n",
        "`NeuralNet` is an `nn.Module` designed for regression.\n",
        "The DNN consists of 2 fully-connected layers with ReLU activation.\n",
        "This module also included a function `cal_loss` for calculating loss.\n"
      ]
    },
    {
      "cell_type": "code",
      "metadata": {
        "id": "49-uXYovOAI0"
      },
      "source": [
        "class NeuralNet(nn.Module):\n",
        "    ''' A simple fully-connected deep neural network '''\n",
        "    def __init__(self, input_dim):\n",
        "        #super(NeuralNet, self).__init__()\n",
        "        super().__init__()\n",
        "\n",
        "        # Define your neural network here\n",
        "        # TODO: How to modify this model to achieve better performance?\n",
        "        self.net = nn.Sequential(\n",
        "            nn.Linear(input_dim, 64),\n",
        "            nn.ReLU(),\n",
        "            nn.Linear(64, 1)\n",
        "        )\n",
        "\n",
        "        # Mean squared error loss\n",
        "        self.criterion = nn.MSELoss(reduction='mean')\n",
        "\n",
        "    def forward(self, x):\n",
        "        ''' Given input of size (batch_size x input_dim), compute output of the network '''\n",
        "        return self.net(x).squeeze(1)\n",
        "\n",
        "    def cal_loss(self, pred, target):\n",
        "        ''' Calculate loss '''\n",
        "        # TODO: you may implement L1/L2 regularization here\n",
        "        return self.criterion(pred, target)"
      ],
      "execution_count": 43,
      "outputs": []
    },
    {
      "cell_type": "code",
      "source": [
        "import torch\n",
        "import torch.nn as nn\n",
        "import torch.nn.functional as F\n",
        "\n",
        "class ImprovedNeuralNet(nn.Module):\n",
        "    ''' 优化的全连接深度神经网络 '''\n",
        "    def __init__(self, input_dim, hidden_dim=128, dropout_rate=0.3, l1_lambda=0.001, l2_lambda=0.01):\n",
        "        super().__init__()\n",
        "\n",
        "        # 保存正则化参数\n",
        "        self.l1_lambda = l1_lambda\n",
        "        self.l2_lambda = l2_lambda\n",
        "\n",
        "        # 更深的网络架构\n",
        "        self.net = nn.Sequential(\n",
        "            nn.Linear(input_dim, hidden_dim),\n",
        "            nn.BatchNorm1d(hidden_dim),  # 批量归一化加速收敛\n",
        "            nn.LeakyReLU(0.1),           # 缓解梯度消失问题\n",
        "\n",
        "            nn.Dropout(dropout_rate),     # 防止过拟合\n",
        "\n",
        "            nn.Linear(hidden_dim, hidden_dim//2),\n",
        "            nn.BatchNorm1d(hidden_dim//2),\n",
        "            nn.LeakyReLU(0.1),\n",
        "\n",
        "            nn.Dropout(dropout_rate/2),\n",
        "\n",
        "            nn.Linear(hidden_dim//2, 1)\n",
        "        )\n",
        "\n",
        "        # 初始化权重\n",
        "        self._initialize_weights()\n",
        "\n",
        "        # 损失函数 - 考虑使用更鲁棒的损失函数\n",
        "        self.criterion = nn.HuberLoss(delta=1.0)  # 对异常值不敏感\n",
        "\n",
        "    def _initialize_weights(self):\n",
        "        ''' 更智能的权重初始化 '''\n",
        "        for m in self.modules():\n",
        "            if isinstance(m, nn.Linear):\n",
        "                nn.init.kaiming_normal_(m.weight, mode='fan_in', nonlinearity='leaky_relu')\n",
        "                if m.bias is not None:\n",
        "                    nn.init.constant_(m.bias, 0)\n",
        "\n",
        "    def forward(self, x):\n",
        "        return self.net(x).squeeze(1)\n",
        "\n",
        "    def cal_loss(self, pred, target):\n",
        "        ''' 计算损失，包含L1/L2正则化 '''\n",
        "        base_loss = self.criterion(pred, target)\n",
        "\n",
        "        # 添加L1和L2正则化\n",
        "        l1_reg = torch.tensor(0., device=pred.device)\n",
        "        l2_reg = torch.tensor(0., device=pred.device)\n",
        "\n",
        "        for param in self.parameters():\n",
        "            if param.requires_grad:\n",
        "                l1_reg += torch.norm(param, 1)  # L1正则\n",
        "                l2_reg += torch.norm(param, 2)  # L2正则\n",
        "\n",
        "        # 组合损失\n",
        "        total_loss = base_loss + self.l1_lambda * l1_reg + self.l2_lambda * l2_reg\n",
        "\n",
        "        return total_loss"
      ],
      "metadata": {
        "id": "q_tQTGR7jPYf"
      },
      "execution_count": 40,
      "outputs": []
    },
    {
      "cell_type": "code",
      "source": [
        "import torch\n",
        "import torch.nn as nn\n",
        "\n",
        "class TunedNeuralNet(nn.Module):\n",
        "    ''' 针对COVID传播数据优化的神经网络 '''\n",
        "    def __init__(self, input_dim, hidden_dim=64, dropout_rate=0.1):\n",
        "        super().__init__()\n",
        "\n",
        "        # 更简单但有效的架构\n",
        "        self.net = nn.Sequential(\n",
        "            nn.Linear(input_dim, hidden_dim),\n",
        "            nn.ReLU(),\n",
        "            nn.Dropout(dropout_rate),\n",
        "            nn.Linear(hidden_dim, hidden_dim//2),\n",
        "            nn.ReLU(),\n",
        "            nn.Linear(hidden_dim//2, 1)\n",
        "        )\n",
        "\n",
        "        # 更温和的初始化\n",
        "        for m in self.modules():\n",
        "            if isinstance(m, nn.Linear):\n",
        "                nn.init.xavier_uniform_(m.weight)\n",
        "                if m.bias is not None:\n",
        "                    nn.init.constant_(m.bias, 0)\n",
        "\n",
        "        # 使用原始MSE损失\n",
        "        self.criterion = nn.MSELoss(reduction='mean')\n",
        "\n",
        "    def forward(self, x):\n",
        "        return self.net(x).squeeze(1)\n",
        "\n",
        "    def cal_loss(self, pred, target):\n",
        "        ''' 添加适度的L2正则化 '''\n",
        "        base_loss = self.criterion(pred, target)\n",
        "\n",
        "        # 仅添加L2正则化\n",
        "        l2_reg = torch.tensor(0., device=pred.device)\n",
        "        for param in self.parameters():\n",
        "            if param.requires_grad:\n",
        "                l2_reg += torch.norm(param, 2)\n",
        "\n",
        "        # 温和的正则化系数\n",
        "        total_loss = base_loss + 0.001 * l2_reg\n",
        "        return total_loss"
      ],
      "metadata": {
        "id": "myoW7eQilJuD"
      },
      "execution_count": 46,
      "outputs": []
    },
    {
      "cell_type": "markdown",
      "metadata": {
        "id": "DvFWVjZ5Nvga"
      },
      "source": [
        "# **Train/Dev/Test**"
      ]
    },
    {
      "cell_type": "markdown",
      "metadata": {
        "id": "MAM8QecJOyqn"
      },
      "source": [
        "## **Training**"
      ]
    },
    {
      "cell_type": "code",
      "metadata": {
        "id": "lOqcmYzMO7jB"
      },
      "source": [
        "def train(tr_set, dv_set, model, config, device):\n",
        "    ''' DNN training '''\n",
        "\n",
        "    n_epochs = config['n_epochs']  # Maximum number of epochs\n",
        "\n",
        "    # Setup optimizer\n",
        "    optimizer = getattr(torch.optim, config['optimizer'])(\n",
        "        model.parameters(), **config['optim_hparas'])\n",
        "\n",
        "    min_mse = 1000.\n",
        "    loss_record = {'train': [], 'dev': []}      # for recording training loss\n",
        "    early_stop_cnt = 0\n",
        "    epoch = 0\n",
        "    while epoch < n_epochs:\n",
        "        model.train()                           # set model to training mode\n",
        "        for x, y in tr_set:                     # iterate through the dataloader\n",
        "            optimizer.zero_grad()               # set gradient to zero\n",
        "            x, y = x.to(device), y.to(device)   # move data to device (cpu/cuda)\n",
        "            pred = model(x)                     # forward pass (compute output)\n",
        "            mse_loss = model.cal_loss(pred, y)  # compute loss\n",
        "            mse_loss.backward()                 # compute gradient (backpropagation)\n",
        "            optimizer.step()                    # update model with optimizer\n",
        "            loss_record['train'].append(mse_loss.detach().cpu().item())\n",
        "\n",
        "        # After each epoch, test your model on the validation (development) set.\n",
        "        dev_mse = dev(dv_set, model, device)\n",
        "        if dev_mse < min_mse:\n",
        "            # Save model if your model improved\n",
        "            min_mse = dev_mse\n",
        "            print('Saving model (epoch = {:4d}, loss = {:.4f})'\n",
        "                .format(epoch + 1, min_mse))\n",
        "            torch.save(model.state_dict(), config['save_path'])  # Save model to specified path\n",
        "            early_stop_cnt = 0\n",
        "        else:\n",
        "            early_stop_cnt += 1\n",
        "\n",
        "        epoch += 1\n",
        "        loss_record['dev'].append(dev_mse)\n",
        "        if early_stop_cnt > config['early_stop']:\n",
        "            # Stop training if your model stops improving for \"config['early_stop']\" epochs.\n",
        "            break\n",
        "\n",
        "    print('Finished training after {} epochs'.format(epoch))\n",
        "    return min_mse, loss_record"
      ],
      "execution_count": 31,
      "outputs": []
    },
    {
      "cell_type": "markdown",
      "metadata": {
        "id": "0hSd4Bn3O2PL"
      },
      "source": [
        "## **Validation**"
      ]
    },
    {
      "cell_type": "code",
      "metadata": {
        "id": "yrxrD3YsN3U2"
      },
      "source": [
        "def dev(dv_set, model, device):\n",
        "    model.eval()                                # set model to evalutation mode\n",
        "    total_loss = 0\n",
        "    for x, y in dv_set:                         # iterate through the dataloader\n",
        "        x, y = x.to(device), y.to(device)       # move data to device (cpu/cuda)\n",
        "        with torch.no_grad():                   # disable gradient calculation\n",
        "            pred = model(x)                     # forward pass (compute output)\n",
        "            mse_loss = model.cal_loss(pred, y)  # compute loss\n",
        "        total_loss += mse_loss.detach().cpu().item() * len(x)  # accumulate loss\n",
        "    total_loss = total_loss / len(dv_set.dataset)              # compute averaged loss\n",
        "\n",
        "    return total_loss"
      ],
      "execution_count": 32,
      "outputs": []
    },
    {
      "cell_type": "markdown",
      "metadata": {
        "id": "g0pdrhQAO41L"
      },
      "source": [
        "## **Testing**"
      ]
    },
    {
      "cell_type": "code",
      "metadata": {
        "id": "aSBMRFlYN5tB"
      },
      "source": [
        "def test(tt_set, model, device):\n",
        "    model.eval()                                # set model to evalutation mode\n",
        "    preds = []\n",
        "    for x in tt_set:                            # iterate through the dataloader\n",
        "        x = x.to(device)                        # move data to device (cpu/cuda)\n",
        "        with torch.no_grad():                   # disable gradient calculation\n",
        "            pred = model(x)                     # forward pass (compute output)\n",
        "            preds.append(pred.detach().cpu())   # collect prediction\n",
        "    preds = torch.cat(preds, dim=0).numpy()     # concatenate all predictions and convert to a numpy array\n",
        "    return preds"
      ],
      "execution_count": 23,
      "outputs": []
    },
    {
      "cell_type": "markdown",
      "metadata": {
        "id": "SvckkF5dvf0j"
      },
      "source": [
        "# **Setup Hyper-parameters**\n",
        "\n",
        "`config` contains hyper-parameters for training and the path to save your model."
      ]
    },
    {
      "cell_type": "code",
      "metadata": {
        "id": "NPXpdumwPjE7"
      },
      "source": [
        "device = get_device()                 # get the current available device ('cpu' or 'cuda')\n",
        "os.makedirs('models', exist_ok=True)  # The trained model will be saved to ./models/\n",
        "target_only = False                   # TODO: Using 40 states & 2 tested_positive features\n",
        "\n",
        "# TODO: How to tune these hyper-parameters to improve your model's performance?\n",
        "config = {\n",
        "    'n_epochs': 1000,                # maximum number of epochs\n",
        "    'batch_size': 270,               # mini-batch size for dataloader\n",
        "    'optimizer': 'Adam',              # optimization algorithm (optimizer in torch.optim)\n",
        "    'optim_hparas': {                # hyper-parameters for the optimizer (depends on which optimizer you are using)\n",
        "        'lr': 0.001,                 # learning rate of SGD\n",
        "      'weight_decay': 1e-5           # momentum for SGD\n",
        "    },\n",
        "    'early_stop': 200,               # early stopping epochs (the number epochs since your model's last improvement)\n",
        "    'save_path': 'models/model.pth'  # your model will be saved here\n",
        "}"
      ],
      "execution_count": 56,
      "outputs": []
    },
    {
      "cell_type": "markdown",
      "metadata": {
        "id": "6j1eOV3TOH-j"
      },
      "source": [
        "# **Load data and model**"
      ]
    },
    {
      "cell_type": "code",
      "metadata": {
        "colab": {
          "base_uri": "https://localhost:8080/"
        },
        "id": "eNrYBMmePLKm",
        "outputId": "b4f25c88-f291-4cb7-b8e2-ae7230db4572"
      },
      "source": [
        "tr_set = prep_dataloader(tr_path, 'train', config['batch_size'], target_only=target_only)\n",
        "dv_set = prep_dataloader(tr_path, 'dev', config['batch_size'], target_only=target_only)\n",
        "tt_set = prep_dataloader(tt_path, 'test', config['batch_size'], target_only=target_only)"
      ],
      "execution_count": 48,
      "outputs": [
        {
          "output_type": "stream",
          "name": "stdout",
          "text": [
            "Finished reading the train set of COVID19 Dataset (2430 samples found, each dim = 93)\n",
            "Finished reading the dev set of COVID19 Dataset (270 samples found, each dim = 93)\n",
            "Finished reading the test set of COVID19 Dataset (893 samples found, each dim = 93)\n"
          ]
        }
      ]
    },
    {
      "cell_type": "code",
      "metadata": {
        "id": "FHylSirLP9oh"
      },
      "source": [
        "model = TunedNeuralNet(tr_set.dataset.dim).to(device)  # Construct model and move to device"
      ],
      "execution_count": 57,
      "outputs": []
    },
    {
      "cell_type": "markdown",
      "metadata": {
        "id": "sX2B_zgSOPTJ"
      },
      "source": [
        "# **Start Training!**"
      ]
    },
    {
      "cell_type": "code",
      "metadata": {
        "colab": {
          "base_uri": "https://localhost:8080/"
        },
        "id": "GrEbUxazQAAZ",
        "outputId": "5e8ef61b-2ca6-4291-c02a-0a5d10184e52"
      },
      "source": [
        "model_loss, model_loss_record = train(tr_set, dv_set, model, config, device)"
      ],
      "execution_count": 58,
      "outputs": [
        {
          "output_type": "stream",
          "name": "stdout",
          "text": [
            "Saving model (epoch =    1, loss = 265.3472)\n",
            "Saving model (epoch =    2, loss = 212.3252)\n",
            "Saving model (epoch =    3, loss = 156.6894)\n",
            "Saving model (epoch =    4, loss = 101.2041)\n",
            "Saving model (epoch =    5, loss = 56.4248)\n",
            "Saving model (epoch =    6, loss = 34.8282)\n",
            "Saving model (epoch =    7, loss = 30.3692)\n",
            "Saving model (epoch =    8, loss = 26.1517)\n",
            "Saving model (epoch =    9, loss = 22.4342)\n",
            "Saving model (epoch =   10, loss = 20.3891)\n",
            "Saving model (epoch =   11, loss = 18.6605)\n",
            "Saving model (epoch =   12, loss = 17.0889)\n",
            "Saving model (epoch =   13, loss = 15.8730)\n",
            "Saving model (epoch =   14, loss = 14.7689)\n",
            "Saving model (epoch =   15, loss = 13.7613)\n",
            "Saving model (epoch =   16, loss = 12.7883)\n",
            "Saving model (epoch =   17, loss = 11.9008)\n",
            "Saving model (epoch =   18, loss = 11.0791)\n",
            "Saving model (epoch =   19, loss = 10.2967)\n",
            "Saving model (epoch =   20, loss = 9.5569)\n",
            "Saving model (epoch =   21, loss = 8.8420)\n",
            "Saving model (epoch =   22, loss = 8.1869)\n",
            "Saving model (epoch =   23, loss = 7.5684)\n",
            "Saving model (epoch =   24, loss = 7.0127)\n",
            "Saving model (epoch =   25, loss = 6.5068)\n",
            "Saving model (epoch =   26, loss = 5.9557)\n",
            "Saving model (epoch =   27, loss = 5.5158)\n",
            "Saving model (epoch =   28, loss = 5.1043)\n",
            "Saving model (epoch =   29, loss = 4.7255)\n",
            "Saving model (epoch =   30, loss = 4.3791)\n",
            "Saving model (epoch =   31, loss = 4.1048)\n",
            "Saving model (epoch =   32, loss = 3.8250)\n",
            "Saving model (epoch =   33, loss = 3.5923)\n",
            "Saving model (epoch =   34, loss = 3.4044)\n",
            "Saving model (epoch =   35, loss = 3.2609)\n",
            "Saving model (epoch =   36, loss = 3.1099)\n",
            "Saving model (epoch =   37, loss = 2.9976)\n",
            "Saving model (epoch =   38, loss = 2.8788)\n",
            "Saving model (epoch =   39, loss = 2.7719)\n",
            "Saving model (epoch =   40, loss = 2.6858)\n",
            "Saving model (epoch =   41, loss = 2.6039)\n",
            "Saving model (epoch =   42, loss = 2.5571)\n",
            "Saving model (epoch =   43, loss = 2.4809)\n",
            "Saving model (epoch =   44, loss = 2.4305)\n",
            "Saving model (epoch =   45, loss = 2.3907)\n",
            "Saving model (epoch =   46, loss = 2.3510)\n",
            "Saving model (epoch =   47, loss = 2.2714)\n",
            "Saving model (epoch =   48, loss = 2.2523)\n",
            "Saving model (epoch =   49, loss = 2.1980)\n",
            "Saving model (epoch =   50, loss = 2.1698)\n",
            "Saving model (epoch =   51, loss = 2.1298)\n",
            "Saving model (epoch =   52, loss = 2.0994)\n",
            "Saving model (epoch =   53, loss = 2.0701)\n",
            "Saving model (epoch =   54, loss = 2.0376)\n",
            "Saving model (epoch =   55, loss = 2.0127)\n",
            "Saving model (epoch =   56, loss = 1.9980)\n",
            "Saving model (epoch =   57, loss = 1.9696)\n",
            "Saving model (epoch =   58, loss = 1.9154)\n",
            "Saving model (epoch =   59, loss = 1.9018)\n",
            "Saving model (epoch =   60, loss = 1.8700)\n",
            "Saving model (epoch =   61, loss = 1.8515)\n",
            "Saving model (epoch =   63, loss = 1.8267)\n",
            "Saving model (epoch =   64, loss = 1.8197)\n",
            "Saving model (epoch =   65, loss = 1.8110)\n",
            "Saving model (epoch =   67, loss = 1.7707)\n",
            "Saving model (epoch =   68, loss = 1.7560)\n",
            "Saving model (epoch =   69, loss = 1.7545)\n",
            "Saving model (epoch =   70, loss = 1.7374)\n",
            "Saving model (epoch =   71, loss = 1.7165)\n",
            "Saving model (epoch =   72, loss = 1.7129)\n",
            "Saving model (epoch =   73, loss = 1.7070)\n",
            "Saving model (epoch =   74, loss = 1.6612)\n",
            "Saving model (epoch =   75, loss = 1.6257)\n",
            "Saving model (epoch =   79, loss = 1.5963)\n",
            "Saving model (epoch =   81, loss = 1.5770)\n",
            "Saving model (epoch =   82, loss = 1.5612)\n",
            "Saving model (epoch =   83, loss = 1.5564)\n",
            "Saving model (epoch =   84, loss = 1.5488)\n",
            "Saving model (epoch =   85, loss = 1.5408)\n",
            "Saving model (epoch =   86, loss = 1.5398)\n",
            "Saving model (epoch =   88, loss = 1.5120)\n",
            "Saving model (epoch =   89, loss = 1.5021)\n",
            "Saving model (epoch =   90, loss = 1.4880)\n",
            "Saving model (epoch =   94, loss = 1.4295)\n",
            "Saving model (epoch =   97, loss = 1.4107)\n",
            "Saving model (epoch =   98, loss = 1.4002)\n",
            "Saving model (epoch =  101, loss = 1.3873)\n",
            "Saving model (epoch =  104, loss = 1.3724)\n",
            "Saving model (epoch =  106, loss = 1.3355)\n",
            "Saving model (epoch =  108, loss = 1.3246)\n",
            "Saving model (epoch =  110, loss = 1.2875)\n",
            "Saving model (epoch =  116, loss = 1.2773)\n",
            "Saving model (epoch =  117, loss = 1.2711)\n",
            "Saving model (epoch =  118, loss = 1.2496)\n",
            "Saving model (epoch =  123, loss = 1.2308)\n",
            "Saving model (epoch =  126, loss = 1.2146)\n",
            "Saving model (epoch =  127, loss = 1.2105)\n",
            "Saving model (epoch =  129, loss = 1.1934)\n",
            "Saving model (epoch =  131, loss = 1.1694)\n",
            "Saving model (epoch =  138, loss = 1.1497)\n",
            "Saving model (epoch =  139, loss = 1.1369)\n",
            "Saving model (epoch =  146, loss = 1.1292)\n",
            "Saving model (epoch =  149, loss = 1.1111)\n",
            "Saving model (epoch =  155, loss = 1.0928)\n",
            "Saving model (epoch =  159, loss = 1.0857)\n",
            "Saving model (epoch =  160, loss = 1.0644)\n",
            "Saving model (epoch =  161, loss = 1.0593)\n",
            "Saving model (epoch =  166, loss = 1.0519)\n",
            "Saving model (epoch =  170, loss = 1.0507)\n",
            "Saving model (epoch =  171, loss = 1.0502)\n",
            "Saving model (epoch =  175, loss = 1.0475)\n",
            "Saving model (epoch =  176, loss = 1.0466)\n",
            "Saving model (epoch =  179, loss = 1.0259)\n",
            "Saving model (epoch =  184, loss = 1.0052)\n",
            "Saving model (epoch =  188, loss = 1.0045)\n",
            "Saving model (epoch =  191, loss = 0.9991)\n",
            "Saving model (epoch =  194, loss = 0.9731)\n",
            "Saving model (epoch =  195, loss = 0.9649)\n",
            "Saving model (epoch =  205, loss = 0.9584)\n",
            "Saving model (epoch =  209, loss = 0.9550)\n",
            "Saving model (epoch =  210, loss = 0.9498)\n",
            "Saving model (epoch =  220, loss = 0.9413)\n",
            "Saving model (epoch =  228, loss = 0.9104)\n",
            "Saving model (epoch =  230, loss = 0.9032)\n",
            "Saving model (epoch =  260, loss = 0.9029)\n",
            "Saving model (epoch =  261, loss = 0.8932)\n",
            "Saving model (epoch =  272, loss = 0.8926)\n",
            "Saving model (epoch =  274, loss = 0.8764)\n",
            "Saving model (epoch =  277, loss = 0.8707)\n",
            "Saving model (epoch =  282, loss = 0.8654)\n",
            "Saving model (epoch =  292, loss = 0.8546)\n",
            "Saving model (epoch =  316, loss = 0.8453)\n",
            "Saving model (epoch =  354, loss = 0.8396)\n",
            "Saving model (epoch =  358, loss = 0.8390)\n",
            "Saving model (epoch =  360, loss = 0.8369)\n",
            "Saving model (epoch =  385, loss = 0.8262)\n",
            "Saving model (epoch =  410, loss = 0.8035)\n",
            "Finished training after 611 epochs\n"
          ]
        }
      ]
    },
    {
      "cell_type": "code",
      "metadata": {
        "colab": {
          "base_uri": "https://localhost:8080/",
          "height": 410
        },
        "id": "hsNO9nnXQBvP",
        "outputId": "5876892b-0964-40b3-b537-a38c640183e4"
      },
      "source": [
        "plot_learning_curve(model_loss_record, title='deep model')"
      ],
      "execution_count": 37,
      "outputs": [
        {
          "output_type": "display_data",
          "data": {
            "text/plain": [
              "<Figure size 600x400 with 1 Axes>"
            ],
            "image/png": "[encoded data removed]"
          },
          "metadata": {}
        }
      ]
    },
    {
      "cell_type": "code",
      "metadata": {
        "colab": {
          "base_uri": "https://localhost:8080/",
          "height": 487
        },
        "id": "3iZTVn5WQFpX",
        "outputId": "6d0a8e39-018b-4886-fdfa-ddbbd0c8b4e4"
      },
      "source": [
        "del model\n",
        "model = NeuralNet(tr_set.dataset.dim).to(device)\n",
        "ckpt = torch.load(config['save_path'], map_location='cpu')  # Load your best model\n",
        "model.load_state_dict(ckpt)\n",
        "plot_pred(dv_set, model, device)  # Show prediction on the validation set"
      ],
      "execution_count": 38,
      "outputs": [
        {
          "output_type": "display_data",
          "data": {
            "text/plain": [
              "<Figure size 500x500 with 1 Axes>"
            ],
            "image/png": "[encoded data removed]"
          },
          "metadata": {}
        }
      ]
    },
    {
      "cell_type": "markdown",
      "metadata": {
        "id": "aQikz3IPiyPf"
      },
      "source": [
        "# **Testing**\n",
        "The predictions of your model on testing set will be stored at `pred.csv`."
      ]
    },
    {
      "cell_type": "code",
      "metadata": {
        "colab": {
          "base_uri": "https://localhost:8080/"
        },
        "id": "O8cTuQjQQOon",
        "outputId": "1b41f3c6-676e-4f6d-e4ee-1eb7b9c3d4f6"
      },
      "source": [
        "def save_pred(preds, file):\n",
        "    ''' Save predictions to specified file '''\n",
        "    print('Saving results to {}'.format(file))\n",
        "    with open(file, 'w') as fp:\n",
        "        writer = csv.writer(fp)\n",
        "        writer.writerow(['id', 'tested_positive'])\n",
        "        for i, p in enumerate(preds):\n",
        "            writer.writerow([i, p])\n",
        "\n",
        "preds = test(tt_set, model, device)  # predict COVID-19 cases with your model\n",
        "save_pred(preds, 'pred.csv')         # save prediction file to pred.csv"
      ],
      "execution_count": 39,
      "outputs": [
        {
          "output_type": "stream",
          "name": "stdout",
          "text": [
            "Saving results to pred.csv\n"
          ]
        }
      ]
    },
    {
      "cell_type": "markdown",
      "metadata": {
        "id": "nfrVxqJanGpE"
      },
      "source": [
        "# **Hints**\n",
        "\n",
        "## **Simple Baseline**\n",
        "* Run sample code\n",
        "\n",
        "## **Medium Baseline**\n",
        "* Feature selection: 40 states + 2 `tested_positive` (`TODO` in dataset)\n",
        "\n",
        "## **Strong Baseline**\n",
        "* Feature selection (what other features are useful?)\n",
        "* DNN architecture (layers? dimension? activation function?)\n",
        "* Training (mini-batch? optimizer? learning rate?)\n",
        "* L2 regularization\n",
        "* There are some mistakes in the sample code, can you find them?"
      ]
    },
    {
      "cell_type": "markdown",
      "metadata": {
        "id": "9tmCwXgpot3t"
      },
      "source": [
        "# **Reference**\n",
        "This code is completely written by Heng-Jui Chang @ NTUEE.  \n",
        "Copying or reusing this code is required to specify the original author.\n",
        "\n",
        "E.g.  \n",
        "Source: Heng-Jui Chang @ NTUEE (https://github.com/ga642381/ML2021-Spring/blob/main/HW01/HW01.ipynb)\n"
      ]
    }
  ]
}